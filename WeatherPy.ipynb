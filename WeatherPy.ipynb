{
 "cells": [
  {
   "cell_type": "markdown",
   "metadata": {},
   "source": [
    "# WeatherPy\n",
    "----\n",
    "\n",
    "#### Note\n",
    "* Instructions have been included for each segment. You do not have to follow them exactly, but they are included to help you think through the steps."
   ]
  },
  {
   "cell_type": "code",
   "execution_count": 10,
   "metadata": {
    "scrolled": true
   },
   "outputs": [],
   "source": [
    "# Dependencies and Setup\n",
    "import matplotlib.pyplot as plt\n",
    "import pandas as pd\n",
    "import numpy as np\n",
    "import requests\n",
    "import time\n",
    "from scipy.stats import linregress\n",
    "\n",
    "# Import API key\n",
    "from api_keys import weather_api_key\n",
    "\n",
    "# Incorporated citipy to determine city based on latitude and longitude\n",
    "from citipy import citipy\n",
    "\n",
    "# Output File (CSV)\n",
    "output_data_file = \"output_data/cities.csv\"\n",
    "\n",
    "# Range of latitudes and longitudes\n",
    "lat_range = (-90, 90)\n",
    "lng_range = (-180, 180)"
   ]
  },
  {
   "cell_type": "markdown",
   "metadata": {},
   "source": [
    "## Generate Cities List"
   ]
  },
  {
   "cell_type": "code",
   "execution_count": 11,
   "metadata": {},
   "outputs": [
    {
     "data": {
      "text/plain": [
       "40"
      ]
     },
     "execution_count": 11,
     "metadata": {},
     "output_type": "execute_result"
    }
   ],
   "source": [
    "# List for holding lat_lngs and cities\n",
    "lat_lngs = []\n",
    "cities = []\n",
    "\n",
    "# Create a set of random lat and lng combinations\n",
    "lats = np.random.uniform(low=-90.000, high=90.000, size=1500)\n",
    "lngs = np.random.uniform(low=-180.000, high=180.000, size=1500)\n",
    "lat_lngs = zip(lats, lngs)\n",
    "\n",
    "# Identify nearest city for each lat, lng combination\n",
    "for lat_lng in lat_lngs:\n",
    "    city = citipy.nearest_city(lat_lng[0], lat_lng[1]).city_name\n",
    "    \n",
    "    # If the city is unique, then add it to a our cities list\n",
    "    if city not in cities:\n",
    "        cities.append(city)\n",
    "\n",
    "# Print the city count to confirm sufficient count\n",
    "cities = cities[:-590]\n",
    "len(cities)"
   ]
  },
  {
   "cell_type": "code",
   "execution_count": 12,
   "metadata": {},
   "outputs": [
    {
     "data": {
      "text/html": [
       "<div>\n",
       "<style scoped>\n",
       "    .dataframe tbody tr th:only-of-type {\n",
       "        vertical-align: middle;\n",
       "    }\n",
       "\n",
       "    .dataframe tbody tr th {\n",
       "        vertical-align: top;\n",
       "    }\n",
       "\n",
       "    .dataframe thead th {\n",
       "        text-align: right;\n",
       "    }\n",
       "</style>\n",
       "<table border=\"1\" class=\"dataframe\">\n",
       "  <thead>\n",
       "    <tr style=\"text-align: right;\">\n",
       "      <th></th>\n",
       "      <th>Name</th>\n",
       "      <th>ID</th>\n",
       "      <th>Lat</th>\n",
       "      <th>Lng</th>\n",
       "      <th>Max Temp</th>\n",
       "      <th>Humidity</th>\n",
       "      <th>Cloudiness</th>\n",
       "      <th>Wind Speed</th>\n",
       "    </tr>\n",
       "  </thead>\n",
       "  <tbody>\n",
       "    <tr>\n",
       "      <th>0</th>\n",
       "      <td>rikitea</td>\n",
       "      <td></td>\n",
       "      <td></td>\n",
       "      <td></td>\n",
       "      <td></td>\n",
       "      <td></td>\n",
       "      <td></td>\n",
       "      <td></td>\n",
       "    </tr>\n",
       "    <tr>\n",
       "      <th>1</th>\n",
       "      <td>taolanaro</td>\n",
       "      <td></td>\n",
       "      <td></td>\n",
       "      <td></td>\n",
       "      <td></td>\n",
       "      <td></td>\n",
       "      <td></td>\n",
       "      <td></td>\n",
       "    </tr>\n",
       "    <tr>\n",
       "      <th>2</th>\n",
       "      <td>berlevag</td>\n",
       "      <td></td>\n",
       "      <td></td>\n",
       "      <td></td>\n",
       "      <td></td>\n",
       "      <td></td>\n",
       "      <td></td>\n",
       "      <td></td>\n",
       "    </tr>\n",
       "    <tr>\n",
       "      <th>3</th>\n",
       "      <td>axim</td>\n",
       "      <td></td>\n",
       "      <td></td>\n",
       "      <td></td>\n",
       "      <td></td>\n",
       "      <td></td>\n",
       "      <td></td>\n",
       "      <td></td>\n",
       "    </tr>\n",
       "    <tr>\n",
       "      <th>4</th>\n",
       "      <td>nizhneyansk</td>\n",
       "      <td></td>\n",
       "      <td></td>\n",
       "      <td></td>\n",
       "      <td></td>\n",
       "      <td></td>\n",
       "      <td></td>\n",
       "      <td></td>\n",
       "    </tr>\n",
       "  </tbody>\n",
       "</table>\n",
       "</div>"
      ],
      "text/plain": [
       "          Name ID Lat Lng Max Temp Humidity Cloudiness Wind Speed\n",
       "0      rikitea                                                   \n",
       "1    taolanaro                                                   \n",
       "2     berlevag                                                   \n",
       "3         axim                                                   \n",
       "4  nizhneyansk                                                   "
      ]
     },
     "execution_count": 12,
     "metadata": {},
     "output_type": "execute_result"
    }
   ],
   "source": [
    "#create dataframe for city info\n",
    "cityDF = pd.DataFrame(columns = [\"Name\", \"ID\", \"Lat\", \"Lng\"])\n",
    "cityDF[\"Name\"] = cities\n",
    "cityDF[\"ID\"] = \"\"\n",
    "cityDF[\"Lat\"] = \"\"\n",
    "cityDF[\"Lng\"] = \"\"\n",
    "cityDF[\"Max Temp\"] =\"\"\n",
    "cityDF[\"Humidity\"]=\"\"\n",
    "cityDF[\"Cloudiness\"]=\"\"\n",
    "cityDF[\"Wind Speed\"]=\"\"\n",
    "cityDF.head()"
   ]
  },
  {
   "cell_type": "markdown",
   "metadata": {},
   "source": [
    "### Perform API Calls\n",
    "* Perform a weather check on each city using a series of successive API calls.\n",
    "* Include a print log of each city as it'sbeing processed (with the city number and city name).\n"
   ]
  },
  {
   "cell_type": "code",
   "execution_count": 13,
   "metadata": {},
   "outputs": [
    {
     "name": "stdout",
     "output_type": "stream",
     "text": [
      "City Name: Rikitea. City ID: 4030556.\n",
      "OH NO!!!!!!!!!!\n",
      "City Name: Berlevag. City ID: 780687.\n",
      "City Name: Esim. City ID: 2303611.\n",
      "OH NO!!!!!!!!!!\n",
      "City Name: Busselton. City ID: 2075265.\n",
      "City Name: Broome. City ID: 5110365.\n",
      "City Name: Mangrol. City ID: 1263752.\n",
      "City Name: Kiryat Gat. City ID: 293842.\n",
      "City Name: Mataura. City ID: 6201424.\n",
      "City Name: Port Alfred. City ID: 964432.\n",
      "City Name: Caravelas. City ID: 3466980.\n",
      "City Name: Ushuaia. City ID: 3833367.\n",
      "City Name: Tasiilaq. City ID: 3424607.\n",
      "City Name: Qaanaaq. City ID: 3831208.\n",
      "City Name: Hermanus. City ID: 3366880.\n",
      "City Name: Alta Floresta. City ID: 6316343.\n",
      "City Name: Mayo. City ID: 4362001.\n",
      "City Name: Esperance. City ID: 2071860.\n",
      "City Name: Djibouti. City ID: 223816.\n",
      "City Name: Bluff. City ID: 2206939.\n",
      "City Name: Avarua. City ID: 4035715.\n",
      "City Name: Kapaa. City ID: 5848280.\n",
      "City Name: Ayan. City ID: 2027316.\n",
      "City Name: Isangel. City ID: 2136825.\n",
      "City Name: Kumul. City ID: 1529484.\n",
      "City Name: Hofn. City ID: 2630299.\n",
      "City Name: Abha. City ID: 110690.\n",
      "City Name: Klaksvik. City ID: 2618795.\n",
      "OH NO!!!!!!!!!!\n",
      "City Name: Takikawa. City ID: 2127896.\n",
      "City Name: Lebu. City ID: 3883457.\n",
      "City Name: George Town. City ID: 1735106.\n",
      "City Name: Castro. City ID: 3466704.\n",
      "City Name: Pemangkat. City ID: 1631637.\n",
      "City Name: Jamestown. City ID: 5122534.\n",
      "City Name: Pandan. City ID: 1695546.\n",
      "City Name: Grand Gaube. City ID: 934479.\n",
      "City Name: Barrow. City ID: 5880054.\n",
      "City Name: Bonthe. City ID: 2409914.\n"
     ]
    }
   ],
   "source": [
    "units = \"imperial\"\n",
    "url = \"http://api.openweathermap.org/data/2.5/weather?\"\n",
    "i = 0\n",
    "for city in cities:\n",
    "    queryURL = f\"{url}appid={weather_api_key}&q={city}&units={units}\"\n",
    "    \n",
    "    citiesResponse = requests.get(queryURL)\n",
    "    citiesJson = citiesResponse.json()\n",
    "    \n",
    "    \n",
    "    try:\n",
    "        cityName = citiesJson[\"name\"]\n",
    "        cityID = citiesJson[\"id\"]\n",
    "        print(f\"City Name: {cityName}. City ID: {cityID}.\")\n",
    "        cityDF.iloc[i,1] = cityID\n",
    "        cityDF.iloc[i,2] = citiesJson[\"coord\"][\"lat\"]\n",
    "        cityDF.iloc[i,3] = citiesJson[\"coord\"][\"lon\"]\n",
    "        cityDF.iloc[i,4] = citiesJson[\"main\"][\"temp_max\"]\n",
    "        cityDF.iloc[i,5] = citiesJson[\"main\"][\"humidity\"]\n",
    "        cityDF.iloc[i,6] = citiesJson[\"clouds\"][\"all\"]\n",
    "        cityDF.iloc[i,7] = citiesJson[\"wind\"][\"speed\"]        \n",
    "\n",
    "    except (KeyError):\n",
    "        print(\"Ruh-Roh, No Data.\")\n",
    "    \n",
    "    i+=1"
   ]
  },
  {
   "cell_type": "code",
   "execution_count": 14,
   "metadata": {},
   "outputs": [],
   "source": [
    "#format to number formats and drop NAs\n",
    "\n",
    "cityDF[[\"ID\", \"Lat\", \"Lng\", \"Max Temp\", \"Humidity\", \"Cloudiness\", \"Wind Speed\"]] = \\\n",
    "    cityDF[[\"ID\", \"Lat\", \"Lng\", \"Max Temp\", \"Humidity\", \"Cloudiness\", \"Wind Speed\"]].apply(pd.to_numeric)\n",
    "\n",
    "cityDF = cityDF.dropna()\n"
   ]
  },
  {
   "cell_type": "markdown",
   "metadata": {},
   "source": [
    "### Convert Raw Data to DataFrame\n",
    "* Export the city data into a .csv.\n",
    "* Display the DataFrame"
   ]
  },
  {
   "cell_type": "code",
   "execution_count": 15,
   "metadata": {},
   "outputs": [],
   "source": [
    "cityDF.to_csv(output_data_file)"
   ]
  },
  {
   "cell_type": "code",
   "execution_count": 16,
   "metadata": {},
   "outputs": [
    {
     "data": {
      "text/html": [
       "<div>\n",
       "<style scoped>\n",
       "    .dataframe tbody tr th:only-of-type {\n",
       "        vertical-align: middle;\n",
       "    }\n",
       "\n",
       "    .dataframe tbody tr th {\n",
       "        vertical-align: top;\n",
       "    }\n",
       "\n",
       "    .dataframe thead th {\n",
       "        text-align: right;\n",
       "    }\n",
       "</style>\n",
       "<table border=\"1\" class=\"dataframe\">\n",
       "  <thead>\n",
       "    <tr style=\"text-align: right;\">\n",
       "      <th></th>\n",
       "      <th>Name</th>\n",
       "      <th>ID</th>\n",
       "      <th>Lat</th>\n",
       "      <th>Lng</th>\n",
       "      <th>Max Temp</th>\n",
       "      <th>Humidity</th>\n",
       "      <th>Cloudiness</th>\n",
       "      <th>Wind Speed</th>\n",
       "    </tr>\n",
       "  </thead>\n",
       "  <tbody>\n",
       "    <tr>\n",
       "      <th>0</th>\n",
       "      <td>rikitea</td>\n",
       "      <td>4030556.0</td>\n",
       "      <td>-23.12</td>\n",
       "      <td>-134.97</td>\n",
       "      <td>79.07</td>\n",
       "      <td>77.0</td>\n",
       "      <td>5.0</td>\n",
       "      <td>12.84</td>\n",
       "    </tr>\n",
       "    <tr>\n",
       "      <th>2</th>\n",
       "      <td>berlevag</td>\n",
       "      <td>780687.0</td>\n",
       "      <td>70.86</td>\n",
       "      <td>29.09</td>\n",
       "      <td>23.04</td>\n",
       "      <td>76.0</td>\n",
       "      <td>100.0</td>\n",
       "      <td>28.45</td>\n",
       "    </tr>\n",
       "    <tr>\n",
       "      <th>3</th>\n",
       "      <td>axim</td>\n",
       "      <td>2303611.0</td>\n",
       "      <td>4.87</td>\n",
       "      <td>-2.24</td>\n",
       "      <td>76.48</td>\n",
       "      <td>87.0</td>\n",
       "      <td>84.0</td>\n",
       "      <td>1.83</td>\n",
       "    </tr>\n",
       "    <tr>\n",
       "      <th>5</th>\n",
       "      <td>busselton</td>\n",
       "      <td>2075265.0</td>\n",
       "      <td>-33.65</td>\n",
       "      <td>115.33</td>\n",
       "      <td>81.00</td>\n",
       "      <td>37.0</td>\n",
       "      <td>28.0</td>\n",
       "      <td>9.40</td>\n",
       "    </tr>\n",
       "    <tr>\n",
       "      <th>6</th>\n",
       "      <td>broome</td>\n",
       "      <td>5110365.0</td>\n",
       "      <td>42.25</td>\n",
       "      <td>-75.83</td>\n",
       "      <td>36.00</td>\n",
       "      <td>99.0</td>\n",
       "      <td>90.0</td>\n",
       "      <td>6.42</td>\n",
       "    </tr>\n",
       "    <tr>\n",
       "      <th>7</th>\n",
       "      <td>mangrol</td>\n",
       "      <td>1263752.0</td>\n",
       "      <td>21.12</td>\n",
       "      <td>70.12</td>\n",
       "      <td>71.42</td>\n",
       "      <td>52.0</td>\n",
       "      <td>0.0</td>\n",
       "      <td>15.48</td>\n",
       "    </tr>\n",
       "    <tr>\n",
       "      <th>8</th>\n",
       "      <td>gat</td>\n",
       "      <td>293842.0</td>\n",
       "      <td>31.61</td>\n",
       "      <td>34.76</td>\n",
       "      <td>46.40</td>\n",
       "      <td>75.0</td>\n",
       "      <td>0.0</td>\n",
       "      <td>2.24</td>\n",
       "    </tr>\n",
       "    <tr>\n",
       "      <th>9</th>\n",
       "      <td>mataura</td>\n",
       "      <td>6201424.0</td>\n",
       "      <td>-46.19</td>\n",
       "      <td>168.86</td>\n",
       "      <td>74.14</td>\n",
       "      <td>60.0</td>\n",
       "      <td>73.0</td>\n",
       "      <td>2.35</td>\n",
       "    </tr>\n",
       "    <tr>\n",
       "      <th>10</th>\n",
       "      <td>port alfred</td>\n",
       "      <td>964432.0</td>\n",
       "      <td>-33.59</td>\n",
       "      <td>26.89</td>\n",
       "      <td>66.99</td>\n",
       "      <td>98.0</td>\n",
       "      <td>0.0</td>\n",
       "      <td>5.99</td>\n",
       "    </tr>\n",
       "    <tr>\n",
       "      <th>11</th>\n",
       "      <td>caravelas</td>\n",
       "      <td>3466980.0</td>\n",
       "      <td>-17.71</td>\n",
       "      <td>-39.25</td>\n",
       "      <td>79.59</td>\n",
       "      <td>82.0</td>\n",
       "      <td>100.0</td>\n",
       "      <td>16.28</td>\n",
       "    </tr>\n",
       "    <tr>\n",
       "      <th>12</th>\n",
       "      <td>ushuaia</td>\n",
       "      <td>3833367.0</td>\n",
       "      <td>-54.80</td>\n",
       "      <td>-68.30</td>\n",
       "      <td>50.00</td>\n",
       "      <td>66.0</td>\n",
       "      <td>75.0</td>\n",
       "      <td>23.04</td>\n",
       "    </tr>\n",
       "    <tr>\n",
       "      <th>13</th>\n",
       "      <td>tasiilaq</td>\n",
       "      <td>3424607.0</td>\n",
       "      <td>65.61</td>\n",
       "      <td>-37.64</td>\n",
       "      <td>30.20</td>\n",
       "      <td>63.0</td>\n",
       "      <td>100.0</td>\n",
       "      <td>25.28</td>\n",
       "    </tr>\n",
       "    <tr>\n",
       "      <th>14</th>\n",
       "      <td>qaanaaq</td>\n",
       "      <td>3831208.0</td>\n",
       "      <td>77.48</td>\n",
       "      <td>-69.36</td>\n",
       "      <td>-12.44</td>\n",
       "      <td>42.0</td>\n",
       "      <td>1.0</td>\n",
       "      <td>4.29</td>\n",
       "    </tr>\n",
       "    <tr>\n",
       "      <th>15</th>\n",
       "      <td>hermanus</td>\n",
       "      <td>3366880.0</td>\n",
       "      <td>-34.42</td>\n",
       "      <td>19.23</td>\n",
       "      <td>60.01</td>\n",
       "      <td>93.0</td>\n",
       "      <td>42.0</td>\n",
       "      <td>11.01</td>\n",
       "    </tr>\n",
       "    <tr>\n",
       "      <th>16</th>\n",
       "      <td>alta floresta</td>\n",
       "      <td>6316343.0</td>\n",
       "      <td>-9.88</td>\n",
       "      <td>-56.09</td>\n",
       "      <td>73.13</td>\n",
       "      <td>97.0</td>\n",
       "      <td>100.0</td>\n",
       "      <td>3.53</td>\n",
       "    </tr>\n",
       "    <tr>\n",
       "      <th>17</th>\n",
       "      <td>mayo</td>\n",
       "      <td>4362001.0</td>\n",
       "      <td>38.89</td>\n",
       "      <td>-76.51</td>\n",
       "      <td>46.40</td>\n",
       "      <td>100.0</td>\n",
       "      <td>1.0</td>\n",
       "      <td>6.55</td>\n",
       "    </tr>\n",
       "    <tr>\n",
       "      <th>18</th>\n",
       "      <td>esperance</td>\n",
       "      <td>2071860.0</td>\n",
       "      <td>-33.87</td>\n",
       "      <td>121.90</td>\n",
       "      <td>71.60</td>\n",
       "      <td>68.0</td>\n",
       "      <td>95.0</td>\n",
       "      <td>8.05</td>\n",
       "    </tr>\n",
       "    <tr>\n",
       "      <th>19</th>\n",
       "      <td>jibuti</td>\n",
       "      <td>223816.0</td>\n",
       "      <td>11.50</td>\n",
       "      <td>42.50</td>\n",
       "      <td>84.20</td>\n",
       "      <td>58.0</td>\n",
       "      <td>1.0</td>\n",
       "      <td>9.60</td>\n",
       "    </tr>\n",
       "    <tr>\n",
       "      <th>20</th>\n",
       "      <td>bluff</td>\n",
       "      <td>2206939.0</td>\n",
       "      <td>-46.60</td>\n",
       "      <td>168.33</td>\n",
       "      <td>69.46</td>\n",
       "      <td>50.0</td>\n",
       "      <td>33.0</td>\n",
       "      <td>5.86</td>\n",
       "    </tr>\n",
       "    <tr>\n",
       "      <th>21</th>\n",
       "      <td>avarua</td>\n",
       "      <td>4035715.0</td>\n",
       "      <td>-21.21</td>\n",
       "      <td>-159.78</td>\n",
       "      <td>82.40</td>\n",
       "      <td>83.0</td>\n",
       "      <td>100.0</td>\n",
       "      <td>11.41</td>\n",
       "    </tr>\n",
       "    <tr>\n",
       "      <th>22</th>\n",
       "      <td>kapaa</td>\n",
       "      <td>5848280.0</td>\n",
       "      <td>22.08</td>\n",
       "      <td>-159.32</td>\n",
       "      <td>78.80</td>\n",
       "      <td>74.0</td>\n",
       "      <td>40.0</td>\n",
       "      <td>10.29</td>\n",
       "    </tr>\n",
       "    <tr>\n",
       "      <th>23</th>\n",
       "      <td>ayan</td>\n",
       "      <td>2027316.0</td>\n",
       "      <td>56.45</td>\n",
       "      <td>138.17</td>\n",
       "      <td>-19.62</td>\n",
       "      <td>71.0</td>\n",
       "      <td>0.0</td>\n",
       "      <td>12.06</td>\n",
       "    </tr>\n",
       "    <tr>\n",
       "      <th>24</th>\n",
       "      <td>isangel</td>\n",
       "      <td>2136825.0</td>\n",
       "      <td>-19.55</td>\n",
       "      <td>169.27</td>\n",
       "      <td>84.20</td>\n",
       "      <td>74.0</td>\n",
       "      <td>75.0</td>\n",
       "      <td>5.82</td>\n",
       "    </tr>\n",
       "    <tr>\n",
       "      <th>25</th>\n",
       "      <td>hami</td>\n",
       "      <td>1529484.0</td>\n",
       "      <td>42.80</td>\n",
       "      <td>93.45</td>\n",
       "      <td>6.04</td>\n",
       "      <td>75.0</td>\n",
       "      <td>0.0</td>\n",
       "      <td>1.63</td>\n",
       "    </tr>\n",
       "    <tr>\n",
       "      <th>26</th>\n",
       "      <td>hofn</td>\n",
       "      <td>2630299.0</td>\n",
       "      <td>64.25</td>\n",
       "      <td>-15.21</td>\n",
       "      <td>36.39</td>\n",
       "      <td>92.0</td>\n",
       "      <td>91.0</td>\n",
       "      <td>4.54</td>\n",
       "    </tr>\n",
       "    <tr>\n",
       "      <th>27</th>\n",
       "      <td>abha</td>\n",
       "      <td>110690.0</td>\n",
       "      <td>18.22</td>\n",
       "      <td>42.51</td>\n",
       "      <td>46.40</td>\n",
       "      <td>87.0</td>\n",
       "      <td>40.0</td>\n",
       "      <td>2.17</td>\n",
       "    </tr>\n",
       "    <tr>\n",
       "      <th>28</th>\n",
       "      <td>klaksvik</td>\n",
       "      <td>2618795.0</td>\n",
       "      <td>62.23</td>\n",
       "      <td>-6.59</td>\n",
       "      <td>44.60</td>\n",
       "      <td>93.0</td>\n",
       "      <td>100.0</td>\n",
       "      <td>10.29</td>\n",
       "    </tr>\n",
       "    <tr>\n",
       "      <th>30</th>\n",
       "      <td>takikawa</td>\n",
       "      <td>2127896.0</td>\n",
       "      <td>43.55</td>\n",
       "      <td>141.91</td>\n",
       "      <td>19.40</td>\n",
       "      <td>91.0</td>\n",
       "      <td>40.0</td>\n",
       "      <td>2.24</td>\n",
       "    </tr>\n",
       "    <tr>\n",
       "      <th>31</th>\n",
       "      <td>lebu</td>\n",
       "      <td>3883457.0</td>\n",
       "      <td>-37.62</td>\n",
       "      <td>-73.65</td>\n",
       "      <td>64.08</td>\n",
       "      <td>69.0</td>\n",
       "      <td>0.0</td>\n",
       "      <td>10.94</td>\n",
       "    </tr>\n",
       "    <tr>\n",
       "      <th>32</th>\n",
       "      <td>georgetown</td>\n",
       "      <td>1735106.0</td>\n",
       "      <td>5.41</td>\n",
       "      <td>100.34</td>\n",
       "      <td>78.80</td>\n",
       "      <td>83.0</td>\n",
       "      <td>20.0</td>\n",
       "      <td>4.70</td>\n",
       "    </tr>\n",
       "    <tr>\n",
       "      <th>33</th>\n",
       "      <td>castro</td>\n",
       "      <td>3466704.0</td>\n",
       "      <td>-24.79</td>\n",
       "      <td>-50.01</td>\n",
       "      <td>64.74</td>\n",
       "      <td>63.0</td>\n",
       "      <td>4.0</td>\n",
       "      <td>3.36</td>\n",
       "    </tr>\n",
       "    <tr>\n",
       "      <th>34</th>\n",
       "      <td>pemangkat</td>\n",
       "      <td>1631637.0</td>\n",
       "      <td>1.17</td>\n",
       "      <td>108.97</td>\n",
       "      <td>77.56</td>\n",
       "      <td>89.0</td>\n",
       "      <td>97.0</td>\n",
       "      <td>4.21</td>\n",
       "    </tr>\n",
       "    <tr>\n",
       "      <th>35</th>\n",
       "      <td>jamestown</td>\n",
       "      <td>5122534.0</td>\n",
       "      <td>42.10</td>\n",
       "      <td>-79.24</td>\n",
       "      <td>36.00</td>\n",
       "      <td>86.0</td>\n",
       "      <td>90.0</td>\n",
       "      <td>3.36</td>\n",
       "    </tr>\n",
       "    <tr>\n",
       "      <th>36</th>\n",
       "      <td>pandan</td>\n",
       "      <td>1695546.0</td>\n",
       "      <td>14.05</td>\n",
       "      <td>124.17</td>\n",
       "      <td>79.43</td>\n",
       "      <td>80.0</td>\n",
       "      <td>38.0</td>\n",
       "      <td>2.51</td>\n",
       "    </tr>\n",
       "    <tr>\n",
       "      <th>37</th>\n",
       "      <td>grand gaube</td>\n",
       "      <td>934479.0</td>\n",
       "      <td>-20.01</td>\n",
       "      <td>57.66</td>\n",
       "      <td>77.00</td>\n",
       "      <td>78.0</td>\n",
       "      <td>40.0</td>\n",
       "      <td>12.75</td>\n",
       "    </tr>\n",
       "    <tr>\n",
       "      <th>38</th>\n",
       "      <td>barrow</td>\n",
       "      <td>5880054.0</td>\n",
       "      <td>71.29</td>\n",
       "      <td>-156.79</td>\n",
       "      <td>-20.20</td>\n",
       "      <td>75.0</td>\n",
       "      <td>90.0</td>\n",
       "      <td>10.29</td>\n",
       "    </tr>\n",
       "    <tr>\n",
       "      <th>39</th>\n",
       "      <td>bonthe</td>\n",
       "      <td>2409914.0</td>\n",
       "      <td>7.53</td>\n",
       "      <td>-12.51</td>\n",
       "      <td>77.09</td>\n",
       "      <td>91.0</td>\n",
       "      <td>0.0</td>\n",
       "      <td>6.26</td>\n",
       "    </tr>\n",
       "  </tbody>\n",
       "</table>\n",
       "</div>"
      ],
      "text/plain": [
       "             Name         ID    Lat     Lng  Max Temp  Humidity  Cloudiness  \\\n",
       "0         rikitea  4030556.0 -23.12 -134.97     79.07      77.0         5.0   \n",
       "2        berlevag   780687.0  70.86   29.09     23.04      76.0       100.0   \n",
       "3            axim  2303611.0   4.87   -2.24     76.48      87.0        84.0   \n",
       "5       busselton  2075265.0 -33.65  115.33     81.00      37.0        28.0   \n",
       "6          broome  5110365.0  42.25  -75.83     36.00      99.0        90.0   \n",
       "7         mangrol  1263752.0  21.12   70.12     71.42      52.0         0.0   \n",
       "8             gat   293842.0  31.61   34.76     46.40      75.0         0.0   \n",
       "9         mataura  6201424.0 -46.19  168.86     74.14      60.0        73.0   \n",
       "10    port alfred   964432.0 -33.59   26.89     66.99      98.0         0.0   \n",
       "11      caravelas  3466980.0 -17.71  -39.25     79.59      82.0       100.0   \n",
       "12        ushuaia  3833367.0 -54.80  -68.30     50.00      66.0        75.0   \n",
       "13       tasiilaq  3424607.0  65.61  -37.64     30.20      63.0       100.0   \n",
       "14        qaanaaq  3831208.0  77.48  -69.36    -12.44      42.0         1.0   \n",
       "15       hermanus  3366880.0 -34.42   19.23     60.01      93.0        42.0   \n",
       "16  alta floresta  6316343.0  -9.88  -56.09     73.13      97.0       100.0   \n",
       "17           mayo  4362001.0  38.89  -76.51     46.40     100.0         1.0   \n",
       "18      esperance  2071860.0 -33.87  121.90     71.60      68.0        95.0   \n",
       "19         jibuti   223816.0  11.50   42.50     84.20      58.0         1.0   \n",
       "20          bluff  2206939.0 -46.60  168.33     69.46      50.0        33.0   \n",
       "21         avarua  4035715.0 -21.21 -159.78     82.40      83.0       100.0   \n",
       "22          kapaa  5848280.0  22.08 -159.32     78.80      74.0        40.0   \n",
       "23           ayan  2027316.0  56.45  138.17    -19.62      71.0         0.0   \n",
       "24        isangel  2136825.0 -19.55  169.27     84.20      74.0        75.0   \n",
       "25           hami  1529484.0  42.80   93.45      6.04      75.0         0.0   \n",
       "26           hofn  2630299.0  64.25  -15.21     36.39      92.0        91.0   \n",
       "27           abha   110690.0  18.22   42.51     46.40      87.0        40.0   \n",
       "28       klaksvik  2618795.0  62.23   -6.59     44.60      93.0       100.0   \n",
       "30       takikawa  2127896.0  43.55  141.91     19.40      91.0        40.0   \n",
       "31           lebu  3883457.0 -37.62  -73.65     64.08      69.0         0.0   \n",
       "32     georgetown  1735106.0   5.41  100.34     78.80      83.0        20.0   \n",
       "33         castro  3466704.0 -24.79  -50.01     64.74      63.0         4.0   \n",
       "34      pemangkat  1631637.0   1.17  108.97     77.56      89.0        97.0   \n",
       "35      jamestown  5122534.0  42.10  -79.24     36.00      86.0        90.0   \n",
       "36         pandan  1695546.0  14.05  124.17     79.43      80.0        38.0   \n",
       "37    grand gaube   934479.0 -20.01   57.66     77.00      78.0        40.0   \n",
       "38         barrow  5880054.0  71.29 -156.79    -20.20      75.0        90.0   \n",
       "39         bonthe  2409914.0   7.53  -12.51     77.09      91.0         0.0   \n",
       "\n",
       "    Wind Speed  \n",
       "0        12.84  \n",
       "2        28.45  \n",
       "3         1.83  \n",
       "5         9.40  \n",
       "6         6.42  \n",
       "7        15.48  \n",
       "8         2.24  \n",
       "9         2.35  \n",
       "10        5.99  \n",
       "11       16.28  \n",
       "12       23.04  \n",
       "13       25.28  \n",
       "14        4.29  \n",
       "15       11.01  \n",
       "16        3.53  \n",
       "17        6.55  \n",
       "18        8.05  \n",
       "19        9.60  \n",
       "20        5.86  \n",
       "21       11.41  \n",
       "22       10.29  \n",
       "23       12.06  \n",
       "24        5.82  \n",
       "25        1.63  \n",
       "26        4.54  \n",
       "27        2.17  \n",
       "28       10.29  \n",
       "30        2.24  \n",
       "31       10.94  \n",
       "32        4.70  \n",
       "33        3.36  \n",
       "34        4.21  \n",
       "35        3.36  \n",
       "36        2.51  \n",
       "37       12.75  \n",
       "38       10.29  \n",
       "39        6.26  "
      ]
     },
     "execution_count": 16,
     "metadata": {},
     "output_type": "execute_result"
    }
   ],
   "source": [
    "cityDF"
   ]
  },
  {
   "cell_type": "markdown",
   "metadata": {},
   "source": [
    "### Plotting the Data\n",
    "* Use proper labeling of the plots using plot titles (including date of analysis) and axes labels.\n",
    "* Save the plotted figures as .pngs."
   ]
  },
  {
   "cell_type": "markdown",
   "metadata": {},
   "source": [
    "#### Latitude vs. Temperature Plot"
   ]
  },
  {
   "cell_type": "code",
   "execution_count": 18,
   "metadata": {
    "scrolled": true
   },
   "outputs": [
    {
     "data": {
      "image/png": "[encoded data removed]",
      "text/plain": [
       "<Figure size 432x288 with 1 Axes>"
      ]
     },
     "metadata": {
      "needs_background": "light"
     },
     "output_type": "display_data"
    }
   ],
   "source": [
    "xTemp = cityDF[\"Max Temp\"]\n",
    "yLat = cityDF[\"Lat\"]\n",
    "\n",
    "plt.scatter(xTemp, yLat)\n",
    "plt.title(\"Max Temp Compared to Latitude (Analysis Date 2020.01.25)\")\n",
    "plt.xlabel(\"Max Temp (F)\")\n",
    "plt.ylabel(\"Latitude\")\n",
    "plt.savefig(\"output_data/MaxTemp_Lat\")"
   ]
  },
  {
   "cell_type": "markdown",
   "metadata": {},
   "source": [
    "The above code is looking at the Max Temp column for each city in the cities DataFrame and comparing it to the lattitude of the corresponding city.  It seems like cities in the southern hemisphere appear to have a higher temperature than cities in the northern hemisphere."
   ]
  },
  {
   "cell_type": "markdown",
   "metadata": {},
   "source": [
    "#### Latitude vs. Humidity Plot"
   ]
  },
  {
   "cell_type": "code",
   "execution_count": 19,
   "metadata": {},
   "outputs": [
    {
     "data": {
      "image/png": "[encoded data removed]",
      "text/plain": [
       "<Figure size 432x288 with 1 Axes>"
      ]
     },
     "metadata": {
      "needs_background": "light"
     },
     "output_type": "display_data"
    }
   ],
   "source": [
    "xHum = cityDF[\"Humidity\"]\n",
    "#using same yLat as above\n",
    "\n",
    "plt.scatter(xHum, yLat)\n",
    "plt.title(\"Humidity Compared to Latitude (Analysis Date 2020.01.25)\")\n",
    "plt.xlabel(\"Humidity (%)\")\n",
    "plt.ylabel(\"Latitude\")\n",
    "plt.savefig(\"output_data/Humidity_Lat\")"
   ]
  },
  {
   "cell_type": "markdown",
   "metadata": {},
   "source": [
    "The above code is looking at the humidity percent for each city and comparing it to it's lattitude.  It seems fairly scattered and just eyeballing the graph, it just seems like all cities tend to have humidity that's above 50%."
   ]
  },
  {
   "cell_type": "markdown",
   "metadata": {},
   "source": [
    "#### Latitude vs. Cloudiness Plot"
   ]
  },
  {
   "cell_type": "code",
   "execution_count": 20,
   "metadata": {},
   "outputs": [
    {
     "data": {
      "image/png": "[encoded data removed]",
      "text/plain": [
       "<Figure size 432x288 with 1 Axes>"
      ]
     },
     "metadata": {
      "needs_background": "light"
     },
     "output_type": "display_data"
    }
   ],
   "source": [
    "xCloud = cityDF[\"Cloudiness\"]\n",
    "#using same yLat as above\n",
    "\n",
    "plt.scatter(xCloud, yLat)\n",
    "plt.title(\"Cloudiness Compared to Latitude (Analysis Date 2020.01.25)\")\n",
    "plt.xlabel(\"Cloudiness (%)\")\n",
    "plt.ylabel(\"Latitude\")\n",
    "plt.savefig(\"output_data/Cloudiness_Lat\")"
   ]
  },
  {
   "cell_type": "markdown",
   "metadata": {},
   "source": [
    "The above code is comparing the percent cloudiness of the cities with their lattitude.  At face value it seems like most of the cloudiness percentages are divisible by 5 or 10, and not many seem to be as diverse as say the Max Temp values."
   ]
  },
  {
   "cell_type": "markdown",
   "metadata": {},
   "source": [
    "#### Latitude vs. Wind Speed Plot"
   ]
  },
  {
   "cell_type": "code",
   "execution_count": 21,
   "metadata": {},
   "outputs": [
    {
     "data": {
      "image/png": "[encoded data removed]",
      "text/plain": [
       "<Figure size 432x288 with 1 Axes>"
      ]
     },
     "metadata": {
      "needs_background": "light"
     },
     "output_type": "display_data"
    }
   ],
   "source": [
    "xWindSp = cityDF[\"Wind Speed\"]\n",
    "#using same yLat as above\n",
    "\n",
    "plt.scatter(xWindSp, yLat)\n",
    "plt.title(\"Wind Speed Compared to Latitude (Analysis Date 2020.01.25)\")\n",
    "plt.xlabel(\"Wind Speed (MPH)\")\n",
    "plt.ylabel(\"Latitude\")\n",
    "plt.savefig(\"output_data/WindSpeed_Lat\")"
   ]
  },
  {
   "cell_type": "markdown",
   "metadata": {},
   "source": [
    "The above graph compares the MPH Wind Speed with the city's lattitude.  Having never really thought about wind speed, it's interesting to see that most cities have a wind speed of 15 mph or less. And after doing a quick google search and finding a usatoday article, it appears that 30 mph is when a wind advisory takes affect, so it makes sense that most places would have a low wind speed as wind advisory's (at least in Minneapolis) aren't frequent."
   ]
  },
  {
   "cell_type": "markdown",
   "metadata": {},
   "source": [
    "## Linear Regression"
   ]
  },
  {
   "cell_type": "code",
   "execution_count": 38,
   "metadata": {},
   "outputs": [],
   "source": [
    "# OPTIONAL: Create a function to create Linear Regression plots\n",
    "def linreg(x_values, y_values):\n",
    "    (slope, intercept, rvalue, pvalue, stderr) = linregress(x_values, y_values)\n",
    "    regress_values = x_values * slope + intercept\n",
    "    line_eq = \"y = \" + str(round(slope,2)) + \"x + \" + str(round(intercept,2))\n",
    "    plt.scatter(x_values,y_values)\n",
    "    plt.plot(x_values,regress_values,\"r-\")\n",
    "    x=x_values.mean()-5 #just trying to come up with a good way to get x&y so the equation will show up nicely on the graph.\n",
    "    y=y_values.mean()+5\n",
    "    plt.annotate(line_eq, (x,y),fontsize=15,color=\"red\")"
   ]
  },
  {
   "cell_type": "code",
   "execution_count": 39,
   "metadata": {},
   "outputs": [],
   "source": [
    "# Create Northern and Southern Hemisphere DataFrames\n",
    "\n",
    "northernCityDF = cityDF.loc[cityDF[\"Lat\"]>=0]\n",
    "southernCityDF = cityDF.loc[cityDF[\"Lat\"]<0]"
   ]
  },
  {
   "cell_type": "markdown",
   "metadata": {},
   "source": [
    "####  Northern Hemisphere - Max Temp vs. Latitude Linear Regression"
   ]
  },
  {
   "cell_type": "code",
   "execution_count": 40,
   "metadata": {},
   "outputs": [
    {
     "data": {
      "image/png": "[encoded data removed]",
      "text/plain": [
       "<Figure size 432x288 with 1 Axes>"
      ]
     },
     "metadata": {
      "needs_background": "light"
     },
     "output_type": "display_data"
    }
   ],
   "source": [
    "xNTemp = northernCityDF[\"Max Temp\"]\n",
    "yNLat = northernCityDF[\"Lat\"]\n",
    "\n",
    "linreg(xNTemp,yNLat)\n",
    "plt.title(\"Max Temp (F) Compared with Lattitude for Cities in the Northern Hemisphere\")\n",
    "plt.xlabel(\"Max Temp (F) for Cities in Northern Hemisphere\")\n",
    "plt.ylabel(\"Lattitude of Northern Cities\")\n",
    "plt.show()"
   ]
  },
  {
   "cell_type": "markdown",
   "metadata": {},
   "source": [
    "####  Southern Hemisphere - Max Temp vs. Latitude Linear Regression"
   ]
  },
  {
   "cell_type": "code",
   "execution_count": 41,
   "metadata": {},
   "outputs": [
    {
     "data": {
      "image/png": "[encoded data removed]",
      "text/plain": [
       "<Figure size 432x288 with 1 Axes>"
      ]
     },
     "metadata": {
      "needs_background": "light"
     },
     "output_type": "display_data"
    }
   ],
   "source": [
    "xSTemp = southernCityDF[\"Max Temp\"]\n",
    "ySLat = southernCityDF[\"Lat\"]\n",
    "\n",
    "linreg(xSTemp, ySLat)\n",
    "plt.title(\"Max Temp (F) Compared with Lattitude for Cities in the Southern Hemisphere\")\n",
    "plt.xlabel(\"Max Temp (F) for Cities in Southern Hemisphere\")\n",
    "plt.ylabel(\"Lattitude of Southern Cities\")\n",
    "plt.show()"
   ]
  },
  {
   "cell_type": "markdown",
   "metadata": {},
   "source": [
    "The graph showing Northern Hemisphere compared with temp shows that as the lattitude gets higher, closer to the North Pole, the temperature gets colder.  Which is mirrored in the Southern Hemisphere graph, which shows that as the city gets a lower lattitude, towards the South Pole, it gets colder. Which demonstrates that the North and South Poles are colder than the equator. There appears to be a strong correlation on both the Nothern Hemisphere graph as well as the Southern Hemisphere graph."
   ]
  },
  {
   "cell_type": "markdown",
   "metadata": {},
   "source": [
    "####  Northern Hemisphere - Humidity (%) vs. Latitude Linear Regression"
   ]
  },
  {
   "cell_type": "code",
   "execution_count": 42,
   "metadata": {},
   "outputs": [
    {
     "data": {
      "image/png": "[encoded data removed]",
      "text/plain": [
       "<Figure size 432x288 with 1 Axes>"
      ]
     },
     "metadata": {
      "needs_background": "light"
     },
     "output_type": "display_data"
    }
   ],
   "source": [
    "xNHum = northernCityDF[\"Humidity\"]\n",
    "\n",
    "linreg(xNHum, yNLat)\n",
    "plt.title(\"Humidity (%) Compared with Lattitude for Cities in the Northern Hemisphere\")\n",
    "plt.xlabel(\"Humidity (%) for Cities in Northern Hemisphere\")\n",
    "plt.ylabel(\"Lattitude of Northern Cities\")\n",
    "plt.show()"
   ]
  },
  {
   "cell_type": "markdown",
   "metadata": {},
   "source": [
    "####  Southern Hemisphere - Humidity (%) vs. Latitude Linear Regression"
   ]
  },
  {
   "cell_type": "code",
   "execution_count": 43,
   "metadata": {},
   "outputs": [
    {
     "data": {
      "image/png": "[encoded data removed]",
      "text/plain": [
       "<Figure size 432x288 with 1 Axes>"
      ]
     },
     "metadata": {
      "needs_background": "light"
     },
     "output_type": "display_data"
    }
   ],
   "source": [
    "xSTemp = southernCityDF[\"Max Temp\"]\n",
    "\n",
    "linreg(xSTemp, ySLat)\n",
    "plt.title(\"Humidity (%) Compared with Lattitude for Cities in the Southern Hemisphere\")\n",
    "plt.xlabel(\"Humidity (%) for Cities in Southern Hemisphere\")\n",
    "plt.ylabel(\"Lattitude of Southern Cities\")\n",
    "plt.show()"
   ]
  },
  {
   "cell_type": "markdown",
   "metadata": {},
   "source": [
    "The Northern Hemisphere graph shows a weak correlation that as the city has a higher lattitude, the humidity is lower. The Southern Hemisphere graph shows a stronger correlation that the Northern Hemisphere graph that as the city's lattitude becomes more south, the humidity decreases.  Both these graphs together seem to show that cities closer to the equator have a higher humidity."
   ]
  },
  {
   "cell_type": "markdown",
   "metadata": {},
   "source": [
    "####  Northern Hemisphere - Cloudiness (%) vs. Latitude Linear Regression"
   ]
  },
  {
   "cell_type": "code",
   "execution_count": 44,
   "metadata": {},
   "outputs": [
    {
     "data": {
      "image/png": "[encoded data removed]",
      "text/plain": [
       "<Figure size 432x288 with 1 Axes>"
      ]
     },
     "metadata": {
      "needs_background": "light"
     },
     "output_type": "display_data"
    }
   ],
   "source": [
    "xNCloud = northernCityDF[\"Cloudiness\"]\n",
    "\n",
    "linreg(xNCloud, yNLat)\n",
    "plt.title(\"Cloudiness (%) compared with Lattitude of Cities in Northern Hemisphere\")\n",
    "plt.xlabel(\"Cloudiness (%) for Cities in Northern Hemisphere\")\n",
    "plt.ylabel(\"Lattitude of Northern Cities\")\n",
    "plt.show()"
   ]
  },
  {
   "cell_type": "markdown",
   "metadata": {},
   "source": [
    "####  Southern Hemisphere - Cloudiness (%) vs. Latitude Linear Regression"
   ]
  },
  {
   "cell_type": "code",
   "execution_count": 45,
   "metadata": {},
   "outputs": [
    {
     "data": {
      "image/png": "[encoded data removed]",
      "text/plain": [
       "<Figure size 432x288 with 1 Axes>"
      ]
     },
     "metadata": {
      "needs_background": "light"
     },
     "output_type": "display_data"
    }
   ],
   "source": [
    "xSCloud = southernCityDF[\"Cloudiness\"]\n",
    "\n",
    "linreg(xSCloud, ySLat)\n",
    "plt.title(\"Cloudiness (%) compared with Lattitude of Cities in Southern Hemisphere\")\n",
    "plt.xlabel(\"Cloudiness (%) for Cities in Southern Hemisphere\")\n",
    "plt.ylabel(\"Lattitude of Southern Cities\")\n",
    "plt.show()"
   ]
  },
  {
   "cell_type": "markdown",
   "metadata": {},
   "source": [
    "Both the Nothern and Southern Hemisphere graphs have a week correlation. The Northern Hemisphere graph shows that cities with a higher lattitude might be a little more cloudy and the Southern Hemisphere graph shows that cities that are further south have a little less cloudiness."
   ]
  },
  {
   "cell_type": "markdown",
   "metadata": {},
   "source": [
    "####  Northern Hemisphere - Wind Speed (mph) vs. Latitude Linear Regression"
   ]
  },
  {
   "cell_type": "code",
   "execution_count": 46,
   "metadata": {},
   "outputs": [
    {
     "data": {
      "image/png": "[encoded data removed]",
      "text/plain": [
       "<Figure size 432x288 with 1 Axes>"
      ]
     },
     "metadata": {
      "needs_background": "light"
     },
     "output_type": "display_data"
    }
   ],
   "source": [
    "xNWindSp = northernCityDF[\"Wind Speed\"]\n",
    "\n",
    "linreg(xNWindSp, yNLat)\n",
    "plt.title(\"Wind Speed (MPH) Compared with Lattitude for Cities in the Northern Hemisphere\")\n",
    "plt.xlabel(\"Wind Speed (MPH) for Cities in Northern Hemisphere\")\n",
    "plt.ylabel(\"Lattitude of Northern Cities\")\n",
    "plt.show()"
   ]
  },
  {
   "cell_type": "markdown",
   "metadata": {},
   "source": [
    "####  Southern Hemisphere - Wind Speed (mph) vs. Latitude Linear Regression"
   ]
  },
  {
   "cell_type": "code",
   "execution_count": 47,
   "metadata": {},
   "outputs": [
    {
     "data": {
      "image/png": "[encoded data removed]",
      "text/plain": [
       "<Figure size 432x288 with 1 Axes>"
      ]
     },
     "metadata": {
      "needs_background": "light"
     },
     "output_type": "display_data"
    }
   ],
   "source": [
    "xSWindSp = southernCityDF[\"Wind Speed\"]\n",
    "\n",
    "linreg(xSWindSp, ySLat)\n",
    "plt.title(\"Wind Speed (MPH) Compared with Lattitude for Cities in the Southern Hemisphere\")\n",
    "plt.xlabel(\"Wind Speed (MPH) for Cities in Southern Hemisphere\")\n",
    "plt.ylabel(\"Lattitude of Southern Cities\")\n",
    "plt.show()"
   ]
  },
  {
   "cell_type": "markdown",
   "metadata": {},
   "source": [
    "The Wind Speed graph for the Northern Hemisphere has a slighty higher correlatin than the Wind Speed for the Southern Hemisphere. The Northern graph shows that as the cities get more northern, the wind speed gets faster.  The Southern graph shows that as the city gets further south ther wind speed gets faster as well. Showing that wind speeds near the equarter are slower than wind speeds near the poles."
   ]
  },
  {
   "cell_type": "code",
   "execution_count": null,
   "metadata": {},
   "outputs": [],
   "source": []
  }
 ],
 "metadata": {
  "anaconda-cloud": {},
  "kernel_info": {
   "name": "python3"
  },
  "kernelspec": {
   "display_name": "Python 3",
   "language": "python",
   "name": "python3"
  },
  "language_info": {
   "codemirror_mode": {
    "name": "ipython",
    "version": 3
   },
   "file_extension": ".py",
   "mimetype": "text/x-python",
   "name": "python",
   "nbconvert_exporter": "python",
   "pygments_lexer": "ipython3",
   "version": "3.6.9"
  },
  "latex_envs": {
   "LaTeX_envs_menu_present": true,
   "autoclose": false,
   "autocomplete": true,
   "bibliofile": "biblio.bib",
   "cite_by": "apalike",
   "current_citInitial": 1,
   "eqLabelWithNumbers": true,
   "eqNumInitial": 1,
   "hotkeys": {
    "equation": "Ctrl-E",
    "itemize": "Ctrl-I"
   },
   "labels_anchors": false,
   "latex_user_defs": false,
   "report_style_numbering": false,
   "user_envs_cfg": false
  },
  "nteract": {
   "version": "0.12.3"
  }
 },
 "nbformat": 4,
 "nbformat_minor": 2
}
