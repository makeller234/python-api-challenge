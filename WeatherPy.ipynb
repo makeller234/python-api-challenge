{
 "cells": [
  {
   "cell_type": "markdown",
   "metadata": {},
   "source": [
    "# WeatherPy\n",
    "----\n",
    "\n",
    "#### Note\n",
    "* Instructions have been included for each segment. You do not have to follow them exactly, but they are included to help you think through the steps."
   ]
  },
  {
   "cell_type": "code",
   "execution_count": 1,
   "metadata": {
    "scrolled": true
   },
   "outputs": [],
   "source": [
    "# Dependencies and Setup\n",
    "import json #used for some testing\n",
    "import matplotlib.pyplot as plt\n",
    "import pandas as pd\n",
    "import numpy as np\n",
    "import requests\n",
    "import time\n",
    "from scipy.stats import linregress\n",
    "\n",
    "# Import API key\n",
    "from api_keys import weather_api_key\n",
    "\n",
    "# Incorporated citipy to determine city based on latitude and longitude\n",
    "from citipy import citipy\n",
    "\n",
    "# Output File (CSV)\n",
    "output_data_file = \"output_data/cities.csv\"\n",
    "\n",
    "# Range of latitudes and longitudes\n",
    "lat_range = (-90, 90)\n",
    "lng_range = (-180, 180)"
   ]
  },
  {
   "cell_type": "markdown",
   "metadata": {},
   "source": [
    "## Generate Cities List"
   ]
  },
  {
   "cell_type": "code",
   "execution_count": 2,
   "metadata": {},
   "outputs": [
    {
     "data": {
      "text/plain": [
       "27"
      ]
     },
     "execution_count": 2,
     "metadata": {},
     "output_type": "execute_result"
    }
   ],
   "source": [
    "# List for holding lat_lngs and cities\n",
    "lat_lngs = []\n",
    "cities = []\n",
    "\n",
    "# Create a set of random lat and lng combinations\n",
    "lats = np.random.uniform(low=-90.000, high=90.000, size=1500)\n",
    "lngs = np.random.uniform(low=-180.000, high=180.000, size=1500)\n",
    "lat_lngs = zip(lats, lngs)\n",
    "\n",
    "# Identify nearest city for each lat, lng combination\n",
    "for lat_lng in lat_lngs:\n",
    "    city = citipy.nearest_city(lat_lng[0], lat_lng[1]).city_name\n",
    "    \n",
    "    # If the city is unique, then add it to a our cities list\n",
    "    if city not in cities:\n",
    "        cities.append(city)\n",
    "\n",
    "# Print the city count to confirm sufficient count\n",
    "cities = cities[:-590]\n",
    "len(cities)"
   ]
  },
  {
   "cell_type": "code",
   "execution_count": 3,
   "metadata": {},
   "outputs": [
    {
     "data": {
      "text/html": [
       "<div>\n",
       "<style scoped>\n",
       "    .dataframe tbody tr th:only-of-type {\n",
       "        vertical-align: middle;\n",
       "    }\n",
       "\n",
       "    .dataframe tbody tr th {\n",
       "        vertical-align: top;\n",
       "    }\n",
       "\n",
       "    .dataframe thead th {\n",
       "        text-align: right;\n",
       "    }\n",
       "</style>\n",
       "<table border=\"1\" class=\"dataframe\">\n",
       "  <thead>\n",
       "    <tr style=\"text-align: right;\">\n",
       "      <th></th>\n",
       "      <th>Name</th>\n",
       "      <th>ID</th>\n",
       "      <th>Lat</th>\n",
       "      <th>Lng</th>\n",
       "      <th>Max Temp</th>\n",
       "      <th>Humidity</th>\n",
       "      <th>Cloudiness</th>\n",
       "      <th>Wind Speed</th>\n",
       "    </tr>\n",
       "  </thead>\n",
       "  <tbody>\n",
       "    <tr>\n",
       "      <th>0</th>\n",
       "      <td>mataura</td>\n",
       "      <td></td>\n",
       "      <td></td>\n",
       "      <td></td>\n",
       "      <td></td>\n",
       "      <td></td>\n",
       "      <td></td>\n",
       "      <td></td>\n",
       "    </tr>\n",
       "    <tr>\n",
       "      <th>1</th>\n",
       "      <td>karratha</td>\n",
       "      <td></td>\n",
       "      <td></td>\n",
       "      <td></td>\n",
       "      <td></td>\n",
       "      <td></td>\n",
       "      <td></td>\n",
       "      <td></td>\n",
       "    </tr>\n",
       "    <tr>\n",
       "      <th>2</th>\n",
       "      <td>pangkalanbuun</td>\n",
       "      <td></td>\n",
       "      <td></td>\n",
       "      <td></td>\n",
       "      <td></td>\n",
       "      <td></td>\n",
       "      <td></td>\n",
       "      <td></td>\n",
       "    </tr>\n",
       "    <tr>\n",
       "      <th>3</th>\n",
       "      <td>hermanus</td>\n",
       "      <td></td>\n",
       "      <td></td>\n",
       "      <td></td>\n",
       "      <td></td>\n",
       "      <td></td>\n",
       "      <td></td>\n",
       "      <td></td>\n",
       "    </tr>\n",
       "    <tr>\n",
       "      <th>4</th>\n",
       "      <td>jatai</td>\n",
       "      <td></td>\n",
       "      <td></td>\n",
       "      <td></td>\n",
       "      <td></td>\n",
       "      <td></td>\n",
       "      <td></td>\n",
       "      <td></td>\n",
       "    </tr>\n",
       "  </tbody>\n",
       "</table>\n",
       "</div>"
      ],
      "text/plain": [
       "            Name ID Lat Lng Max Temp Humidity Cloudiness Wind Speed\n",
       "0        mataura                                                   \n",
       "1       karratha                                                   \n",
       "2  pangkalanbuun                                                   \n",
       "3       hermanus                                                   \n",
       "4          jatai                                                   "
      ]
     },
     "execution_count": 3,
     "metadata": {},
     "output_type": "execute_result"
    }
   ],
   "source": [
    "#testing\n",
    "\n",
    "# queryURL = f\"{url}appid={weather_api_key}&q={city}\"\n",
    "\n",
    "# citiesResponse = requests.get(queryURL)\n",
    "# citiesJson = citiesResponse.json()\n",
    "\n",
    "\n",
    "\n",
    "#create dataframe for city info\n",
    "cityDF = pd.DataFrame(columns = [\"Name\", \"ID\", \"Lat\", \"Lng\"])\n",
    "cityDF[\"Name\"] = cities\n",
    "cityDF[\"ID\"] = \"\"\n",
    "cityDF[\"Lat\"] = \"\"\n",
    "cityDF[\"Lng\"] = \"\"\n",
    "cityDF[\"Max Temp\"] =\"\"\n",
    "cityDF[\"Humidity\"]=\"\"\n",
    "cityDF[\"Cloudiness\"]=\"\"\n",
    "cityDF[\"Wind Speed\"]=\"\"\n",
    "cityDF.head()"
   ]
  },
  {
   "cell_type": "markdown",
   "metadata": {},
   "source": [
    "### Perform API Calls\n",
    "* Perform a weather check on each city using a series of successive API calls.\n",
    "* Include a print log of each city as it'sbeing processed (with the city number and city name).\n"
   ]
  },
  {
   "cell_type": "code",
   "execution_count": 4,
   "metadata": {},
   "outputs": [
    {
     "name": "stdout",
     "output_type": "stream",
     "text": [
      "City Name: Mataura. City ID: 6201424.\n",
      "City Name: Karratha. City ID: 6620339.\n",
      "City Name: Pangkalanbuun. City ID: 1632694.\n",
      "City Name: Hermanus. City ID: 3366880.\n",
      "City Name: Jatai. City ID: 3460064.\n",
      "City Name: Dikson. City ID: 1507390.\n",
      "City Name: Ponta do Sol. City ID: 2264557.\n",
      "City Name: Roald. City ID: 3141667.\n",
      "City Name: Erenhot. City ID: 2037485.\n",
      "OH NO!!!!!!!!!!\n",
      "City Name: Arraial do Cabo. City ID: 3471451.\n",
      "City Name: Hofn. City ID: 2630299.\n",
      "City Name: Esim. City ID: 2303611.\n",
      "City Name: Bethel. City ID: 5282297.\n",
      "City Name: Xinqing. City ID: 2033667.\n",
      "City Name: Vaini. City ID: 4032243.\n",
      "City Name: Hilo. City ID: 5855927.\n",
      "OH NO!!!!!!!!!!\n",
      "City Name: Sechura. City ID: 3691954.\n",
      "City Name: Todos Santos. City ID: 3981432.\n",
      "City Name: Tuatapere. City ID: 2180815.\n",
      "City Name: Zeya. City ID: 2012593.\n",
      "City Name: Saint-Francois. City ID: 2980080.\n",
      "City Name: Ostrovnoy. City ID: 556268.\n",
      "City Name: Itarema. City ID: 3393692.\n",
      "City Name: 'Ewa Beach. City ID: 5855051.\n",
      "City Name: Tuktoyaktuk. City ID: 6170031.\n"
     ]
    }
   ],
   "source": [
    "units = \"imperial\"\n",
    "url = \"http://api.openweathermap.org/data/2.5/weather?\"\n",
    "i = 0\n",
    "for city in cities:\n",
    "    queryURL = f\"{url}appid={weather_api_key}&q={city}&units={units}\"\n",
    "    \n",
    "    citiesResponse = requests.get(queryURL)\n",
    "    citiesJson = citiesResponse.json()\n",
    "    \n",
    "    \n",
    "    try:\n",
    "        cityName = citiesJson[\"name\"]\n",
    "        cityID = citiesJson[\"id\"]\n",
    "        print(f\"City Name: {cityName}. City ID: {cityID}.\")\n",
    "        cityDF.iloc[i,1] = cityID\n",
    "        cityDF.iloc[i,2] = citiesJson[\"coord\"][\"lat\"]\n",
    "        cityDF.iloc[i,3] = citiesJson[\"coord\"][\"lon\"]\n",
    "        cityDF.iloc[i,4] = citiesJson[\"main\"][\"temp_max\"]\n",
    "        cityDF.iloc[i,5] = citiesJson[\"main\"][\"humidity\"]\n",
    "        cityDF.iloc[i,6] = citiesJson[\"clouds\"][\"all\"]\n",
    "        cityDF.iloc[i,7] = citiesJson[\"wind\"][\"speed\"]        \n",
    "\n",
    "    except (KeyError):\n",
    "        print(\"OH NO!!!!!!!!!!\")\n",
    "    \n",
    "    i+=1"
   ]
  },
  {
   "cell_type": "code",
   "execution_count": 5,
   "metadata": {},
   "outputs": [],
   "source": [
    "#format to number formats and drop NAs\n",
    "\n",
    "cityDF[[\"ID\", \"Lat\", \"Lng\", \"Max Temp\", \"Humidity\", \"Cloudiness\", \"Wind Speed\"]] = \\\n",
    "    cityDF[[\"ID\", \"Lat\", \"Lng\", \"Max Temp\", \"Humidity\", \"Cloudiness\", \"Wind Speed\"]].apply(pd.to_numeric)\n",
    "\n",
    "cityDF = cityDF.dropna()\n"
   ]
  },
  {
   "cell_type": "markdown",
   "metadata": {},
   "source": [
    "### Convert Raw Data to DataFrame\n",
    "* Export the city data into a .csv.\n",
    "* Display the DataFrame"
   ]
  },
  {
   "cell_type": "code",
   "execution_count": 6,
   "metadata": {},
   "outputs": [],
   "source": [
    "cityDF.to_csv(\"CityData.csv\")"
   ]
  },
  {
   "cell_type": "code",
   "execution_count": 7,
   "metadata": {},
   "outputs": [
    {
     "data": {
      "text/html": [
       "<div>\n",
       "<style scoped>\n",
       "    .dataframe tbody tr th:only-of-type {\n",
       "        vertical-align: middle;\n",
       "    }\n",
       "\n",
       "    .dataframe tbody tr th {\n",
       "        vertical-align: top;\n",
       "    }\n",
       "\n",
       "    .dataframe thead th {\n",
       "        text-align: right;\n",
       "    }\n",
       "</style>\n",
       "<table border=\"1\" class=\"dataframe\">\n",
       "  <thead>\n",
       "    <tr style=\"text-align: right;\">\n",
       "      <th></th>\n",
       "      <th>Name</th>\n",
       "      <th>ID</th>\n",
       "      <th>Lat</th>\n",
       "      <th>Lng</th>\n",
       "      <th>Max Temp</th>\n",
       "      <th>Humidity</th>\n",
       "      <th>Cloudiness</th>\n",
       "      <th>Wind Speed</th>\n",
       "    </tr>\n",
       "  </thead>\n",
       "  <tbody>\n",
       "    <tr>\n",
       "      <th>0</th>\n",
       "      <td>mataura</td>\n",
       "      <td>6201424.0</td>\n",
       "      <td>-46.19</td>\n",
       "      <td>168.86</td>\n",
       "      <td>74.73</td>\n",
       "      <td>61.0</td>\n",
       "      <td>73.0</td>\n",
       "      <td>1.39</td>\n",
       "    </tr>\n",
       "    <tr>\n",
       "      <th>1</th>\n",
       "      <td>karratha</td>\n",
       "      <td>6620339.0</td>\n",
       "      <td>-20.74</td>\n",
       "      <td>116.85</td>\n",
       "      <td>85.59</td>\n",
       "      <td>74.0</td>\n",
       "      <td>0.0</td>\n",
       "      <td>2.82</td>\n",
       "    </tr>\n",
       "    <tr>\n",
       "      <th>2</th>\n",
       "      <td>pangkalanbuun</td>\n",
       "      <td>1632694.0</td>\n",
       "      <td>-2.68</td>\n",
       "      <td>111.62</td>\n",
       "      <td>75.20</td>\n",
       "      <td>96.0</td>\n",
       "      <td>96.0</td>\n",
       "      <td>0.87</td>\n",
       "    </tr>\n",
       "    <tr>\n",
       "      <th>3</th>\n",
       "      <td>hermanus</td>\n",
       "      <td>3366880.0</td>\n",
       "      <td>-34.42</td>\n",
       "      <td>19.23</td>\n",
       "      <td>62.01</td>\n",
       "      <td>88.0</td>\n",
       "      <td>46.0</td>\n",
       "      <td>8.01</td>\n",
       "    </tr>\n",
       "    <tr>\n",
       "      <th>4</th>\n",
       "      <td>jatai</td>\n",
       "      <td>3460064.0</td>\n",
       "      <td>-17.88</td>\n",
       "      <td>-51.71</td>\n",
       "      <td>70.83</td>\n",
       "      <td>91.0</td>\n",
       "      <td>100.0</td>\n",
       "      <td>5.08</td>\n",
       "    </tr>\n",
       "    <tr>\n",
       "      <th>5</th>\n",
       "      <td>dikson</td>\n",
       "      <td>1507390.0</td>\n",
       "      <td>73.51</td>\n",
       "      <td>80.55</td>\n",
       "      <td>-7.82</td>\n",
       "      <td>96.0</td>\n",
       "      <td>100.0</td>\n",
       "      <td>7.07</td>\n",
       "    </tr>\n",
       "    <tr>\n",
       "      <th>6</th>\n",
       "      <td>ponta do sol</td>\n",
       "      <td>2264557.0</td>\n",
       "      <td>32.67</td>\n",
       "      <td>-17.10</td>\n",
       "      <td>60.80</td>\n",
       "      <td>67.0</td>\n",
       "      <td>20.0</td>\n",
       "      <td>5.82</td>\n",
       "    </tr>\n",
       "    <tr>\n",
       "      <th>7</th>\n",
       "      <td>roald</td>\n",
       "      <td>3141667.0</td>\n",
       "      <td>62.58</td>\n",
       "      <td>6.13</td>\n",
       "      <td>46.99</td>\n",
       "      <td>93.0</td>\n",
       "      <td>100.0</td>\n",
       "      <td>24.16</td>\n",
       "    </tr>\n",
       "    <tr>\n",
       "      <th>8</th>\n",
       "      <td>erenhot</td>\n",
       "      <td>2037485.0</td>\n",
       "      <td>43.65</td>\n",
       "      <td>111.98</td>\n",
       "      <td>13.96</td>\n",
       "      <td>78.0</td>\n",
       "      <td>0.0</td>\n",
       "      <td>7.72</td>\n",
       "    </tr>\n",
       "    <tr>\n",
       "      <th>10</th>\n",
       "      <td>arraial do cabo</td>\n",
       "      <td>3471451.0</td>\n",
       "      <td>-22.97</td>\n",
       "      <td>-42.03</td>\n",
       "      <td>75.79</td>\n",
       "      <td>83.0</td>\n",
       "      <td>0.0</td>\n",
       "      <td>9.40</td>\n",
       "    </tr>\n",
       "    <tr>\n",
       "      <th>11</th>\n",
       "      <td>hofn</td>\n",
       "      <td>2630299.0</td>\n",
       "      <td>64.25</td>\n",
       "      <td>-15.21</td>\n",
       "      <td>36.64</td>\n",
       "      <td>91.0</td>\n",
       "      <td>87.0</td>\n",
       "      <td>5.48</td>\n",
       "    </tr>\n",
       "    <tr>\n",
       "      <th>12</th>\n",
       "      <td>axim</td>\n",
       "      <td>2303611.0</td>\n",
       "      <td>4.87</td>\n",
       "      <td>-2.24</td>\n",
       "      <td>75.90</td>\n",
       "      <td>86.0</td>\n",
       "      <td>94.0</td>\n",
       "      <td>1.32</td>\n",
       "    </tr>\n",
       "    <tr>\n",
       "      <th>13</th>\n",
       "      <td>bethel</td>\n",
       "      <td>5282297.0</td>\n",
       "      <td>41.37</td>\n",
       "      <td>-73.41</td>\n",
       "      <td>50.00</td>\n",
       "      <td>93.0</td>\n",
       "      <td>90.0</td>\n",
       "      <td>3.36</td>\n",
       "    </tr>\n",
       "    <tr>\n",
       "      <th>14</th>\n",
       "      <td>xinqing</td>\n",
       "      <td>2033667.0</td>\n",
       "      <td>48.23</td>\n",
       "      <td>129.50</td>\n",
       "      <td>-5.40</td>\n",
       "      <td>95.0</td>\n",
       "      <td>15.0</td>\n",
       "      <td>5.50</td>\n",
       "    </tr>\n",
       "    <tr>\n",
       "      <th>15</th>\n",
       "      <td>vaini</td>\n",
       "      <td>4032243.0</td>\n",
       "      <td>-21.20</td>\n",
       "      <td>-175.20</td>\n",
       "      <td>80.60</td>\n",
       "      <td>88.0</td>\n",
       "      <td>90.0</td>\n",
       "      <td>13.87</td>\n",
       "    </tr>\n",
       "    <tr>\n",
       "      <th>16</th>\n",
       "      <td>hilo</td>\n",
       "      <td>5855927.0</td>\n",
       "      <td>19.73</td>\n",
       "      <td>-155.09</td>\n",
       "      <td>80.60</td>\n",
       "      <td>57.0</td>\n",
       "      <td>90.0</td>\n",
       "      <td>6.93</td>\n",
       "    </tr>\n",
       "    <tr>\n",
       "      <th>18</th>\n",
       "      <td>sechura</td>\n",
       "      <td>3691954.0</td>\n",
       "      <td>-5.56</td>\n",
       "      <td>-80.82</td>\n",
       "      <td>74.34</td>\n",
       "      <td>87.0</td>\n",
       "      <td>32.0</td>\n",
       "      <td>14.65</td>\n",
       "    </tr>\n",
       "    <tr>\n",
       "      <th>19</th>\n",
       "      <td>todos santos</td>\n",
       "      <td>3981432.0</td>\n",
       "      <td>23.45</td>\n",
       "      <td>-110.22</td>\n",
       "      <td>73.00</td>\n",
       "      <td>64.0</td>\n",
       "      <td>75.0</td>\n",
       "      <td>11.41</td>\n",
       "    </tr>\n",
       "    <tr>\n",
       "      <th>20</th>\n",
       "      <td>tuatapere</td>\n",
       "      <td>2180815.0</td>\n",
       "      <td>-46.13</td>\n",
       "      <td>167.68</td>\n",
       "      <td>72.34</td>\n",
       "      <td>47.0</td>\n",
       "      <td>78.0</td>\n",
       "      <td>3.47</td>\n",
       "    </tr>\n",
       "    <tr>\n",
       "      <th>21</th>\n",
       "      <td>zeya</td>\n",
       "      <td>2012593.0</td>\n",
       "      <td>53.75</td>\n",
       "      <td>127.27</td>\n",
       "      <td>-27.42</td>\n",
       "      <td>97.0</td>\n",
       "      <td>4.0</td>\n",
       "      <td>2.08</td>\n",
       "    </tr>\n",
       "    <tr>\n",
       "      <th>22</th>\n",
       "      <td>saint-francois</td>\n",
       "      <td>2980080.0</td>\n",
       "      <td>46.42</td>\n",
       "      <td>3.91</td>\n",
       "      <td>42.01</td>\n",
       "      <td>90.0</td>\n",
       "      <td>86.0</td>\n",
       "      <td>3.36</td>\n",
       "    </tr>\n",
       "    <tr>\n",
       "      <th>23</th>\n",
       "      <td>ostrovnoy</td>\n",
       "      <td>556268.0</td>\n",
       "      <td>68.05</td>\n",
       "      <td>39.51</td>\n",
       "      <td>0.63</td>\n",
       "      <td>99.0</td>\n",
       "      <td>65.0</td>\n",
       "      <td>8.19</td>\n",
       "    </tr>\n",
       "    <tr>\n",
       "      <th>24</th>\n",
       "      <td>itarema</td>\n",
       "      <td>3393692.0</td>\n",
       "      <td>-2.92</td>\n",
       "      <td>-39.92</td>\n",
       "      <td>78.49</td>\n",
       "      <td>88.0</td>\n",
       "      <td>86.0</td>\n",
       "      <td>6.58</td>\n",
       "    </tr>\n",
       "    <tr>\n",
       "      <th>25</th>\n",
       "      <td>ewa beach</td>\n",
       "      <td>5855051.0</td>\n",
       "      <td>21.32</td>\n",
       "      <td>-158.01</td>\n",
       "      <td>80.60</td>\n",
       "      <td>54.0</td>\n",
       "      <td>75.0</td>\n",
       "      <td>11.41</td>\n",
       "    </tr>\n",
       "    <tr>\n",
       "      <th>26</th>\n",
       "      <td>tuktoyaktuk</td>\n",
       "      <td>6170031.0</td>\n",
       "      <td>69.45</td>\n",
       "      <td>-133.04</td>\n",
       "      <td>-13.00</td>\n",
       "      <td>75.0</td>\n",
       "      <td>90.0</td>\n",
       "      <td>24.16</td>\n",
       "    </tr>\n",
       "  </tbody>\n",
       "</table>\n",
       "</div>"
      ],
      "text/plain": [
       "               Name         ID    Lat     Lng  Max Temp  Humidity  Cloudiness  \\\n",
       "0           mataura  6201424.0 -46.19  168.86     74.73      61.0        73.0   \n",
       "1          karratha  6620339.0 -20.74  116.85     85.59      74.0         0.0   \n",
       "2     pangkalanbuun  1632694.0  -2.68  111.62     75.20      96.0        96.0   \n",
       "3          hermanus  3366880.0 -34.42   19.23     62.01      88.0        46.0   \n",
       "4             jatai  3460064.0 -17.88  -51.71     70.83      91.0       100.0   \n",
       "5            dikson  1507390.0  73.51   80.55     -7.82      96.0       100.0   \n",
       "6      ponta do sol  2264557.0  32.67  -17.10     60.80      67.0        20.0   \n",
       "7             roald  3141667.0  62.58    6.13     46.99      93.0       100.0   \n",
       "8           erenhot  2037485.0  43.65  111.98     13.96      78.0         0.0   \n",
       "10  arraial do cabo  3471451.0 -22.97  -42.03     75.79      83.0         0.0   \n",
       "11             hofn  2630299.0  64.25  -15.21     36.64      91.0        87.0   \n",
       "12             axim  2303611.0   4.87   -2.24     75.90      86.0        94.0   \n",
       "13           bethel  5282297.0  41.37  -73.41     50.00      93.0        90.0   \n",
       "14          xinqing  2033667.0  48.23  129.50     -5.40      95.0        15.0   \n",
       "15            vaini  4032243.0 -21.20 -175.20     80.60      88.0        90.0   \n",
       "16             hilo  5855927.0  19.73 -155.09     80.60      57.0        90.0   \n",
       "18          sechura  3691954.0  -5.56  -80.82     74.34      87.0        32.0   \n",
       "19     todos santos  3981432.0  23.45 -110.22     73.00      64.0        75.0   \n",
       "20        tuatapere  2180815.0 -46.13  167.68     72.34      47.0        78.0   \n",
       "21             zeya  2012593.0  53.75  127.27    -27.42      97.0         4.0   \n",
       "22   saint-francois  2980080.0  46.42    3.91     42.01      90.0        86.0   \n",
       "23        ostrovnoy   556268.0  68.05   39.51      0.63      99.0        65.0   \n",
       "24          itarema  3393692.0  -2.92  -39.92     78.49      88.0        86.0   \n",
       "25        ewa beach  5855051.0  21.32 -158.01     80.60      54.0        75.0   \n",
       "26      tuktoyaktuk  6170031.0  69.45 -133.04    -13.00      75.0        90.0   \n",
       "\n",
       "    Wind Speed  \n",
       "0         1.39  \n",
       "1         2.82  \n",
       "2         0.87  \n",
       "3         8.01  \n",
       "4         5.08  \n",
       "5         7.07  \n",
       "6         5.82  \n",
       "7        24.16  \n",
       "8         7.72  \n",
       "10        9.40  \n",
       "11        5.48  \n",
       "12        1.32  \n",
       "13        3.36  \n",
       "14        5.50  \n",
       "15       13.87  \n",
       "16        6.93  \n",
       "18       14.65  \n",
       "19       11.41  \n",
       "20        3.47  \n",
       "21        2.08  \n",
       "22        3.36  \n",
       "23        8.19  \n",
       "24        6.58  \n",
       "25       11.41  \n",
       "26       24.16  "
      ]
     },
     "execution_count": 7,
     "metadata": {},
     "output_type": "execute_result"
    }
   ],
   "source": [
    "cityDF"
   ]
  },
  {
   "cell_type": "markdown",
   "metadata": {},
   "source": [
    "### Plotting the Data\n",
    "* Use proper labeling of the plots using plot titles (including date of analysis) and axes labels.\n",
    "* Save the plotted figures as .pngs."
   ]
  },
  {
   "cell_type": "markdown",
   "metadata": {},
   "source": [
    "#### Latitude vs. Temperature Plot"
   ]
  },
  {
   "cell_type": "code",
   "execution_count": 48,
   "metadata": {
    "scrolled": true
   },
   "outputs": [
    {
     "data": {
      "image/png": "[encoded data removed]",
      "text/plain": [
       "<Figure size 432x288 with 1 Axes>"
      ]
     },
     "metadata": {
      "needs_background": "light"
     },
     "output_type": "display_data"
    }
   ],
   "source": [
    "xTemp = cityDF[\"Max Temp\"]\n",
    "yLat = cityDF[\"Lat\"]\n",
    "\n",
    "plt.scatter(xTemp, yLat)\n",
    "plt.title(\"Max Temp Compared to Latitude\")\n",
    "plt.xlabel(\"Max Temp (F)\")\n",
    "plt.ylabel(\"Latitude\")\n",
    "plt.show()"
   ]
  },
  {
   "cell_type": "markdown",
   "metadata": {},
   "source": [
    "#### Latitude vs. Humidity Plot"
   ]
  },
  {
   "cell_type": "code",
   "execution_count": 49,
   "metadata": {},
   "outputs": [
    {
     "data": {
      "image/png": "[encoded data removed]",
      "text/plain": [
       "<Figure size 432x288 with 1 Axes>"
      ]
     },
     "metadata": {
      "needs_background": "light"
     },
     "output_type": "display_data"
    }
   ],
   "source": [
    "xHum = cityDF[\"Humidity\"]\n",
    "#using same yLat as above\n",
    "\n",
    "plt.scatter(xHum, yLat)\n",
    "plt.title(\"Humidity Compared to Latitude\")\n",
    "plt.xlabel(\"Humidity (%)\")\n",
    "plt.ylabel(\"Latitude\")\n",
    "plt.show()"
   ]
  },
  {
   "cell_type": "markdown",
   "metadata": {},
   "source": [
    "#### Latitude vs. Cloudiness Plot"
   ]
  },
  {
   "cell_type": "code",
   "execution_count": 50,
   "metadata": {},
   "outputs": [
    {
     "data": {
      "image/png": "[encoded data removed]",
      "text/plain": [
       "<Figure size 432x288 with 1 Axes>"
      ]
     },
     "metadata": {
      "needs_background": "light"
     },
     "output_type": "display_data"
    }
   ],
   "source": [
    "xCloud = cityDF[\"Cloudiness\"]\n",
    "#using same yLat as above\n",
    "\n",
    "plt.scatter(xCloud, yLat)\n",
    "plt.title(\"Cloudiness Compared to Latitude\")\n",
    "plt.xlabel(\"Cloudiness (%)\")\n",
    "plt.ylabel(\"Latitude\")\n",
    "plt.show()"
   ]
  },
  {
   "cell_type": "markdown",
   "metadata": {},
   "source": [
    "#### Latitude vs. Wind Speed Plot"
   ]
  },
  {
   "cell_type": "code",
   "execution_count": 52,
   "metadata": {},
   "outputs": [
    {
     "data": {
      "image/png": "[encoded data removed]",
      "text/plain": [
       "<Figure size 432x288 with 1 Axes>"
      ]
     },
     "metadata": {
      "needs_background": "light"
     },
     "output_type": "display_data"
    }
   ],
   "source": [
    "xWindSp = cityDF[\"Wind Speed\"]\n",
    "#using same yLat as above\n",
    "\n",
    "plt.scatter(xWindSp, yLat)\n",
    "plt.title(\"Wind Speed Compared to Latitude\")\n",
    "plt.xlabel(\"Wind Speed (MPH)\")\n",
    "plt.ylabel(\"Latitude\")\n",
    "plt.show()"
   ]
  },
  {
   "cell_type": "markdown",
   "metadata": {},
   "source": [
    "## Linear Regression"
   ]
  },
  {
   "cell_type": "code",
   "execution_count": 54,
   "metadata": {},
   "outputs": [],
   "source": [
    "# OPTIONAL: Create a function to create Linear Regression plots\n",
    "def linreg(x_values, y_values):\n",
    "    (slope, intercept, rvalue, pvalue, stderr) = linregress(x_values, y_values)\n",
    "    regress_values = x_values * slope + intercept\n",
    "    line_eq = \"y = \" + str(round(slope,2)) + \"x + \" + str(round(intercept,2))\n",
    "    plt.scatter(x_values,y_values)\n",
    "    plt.plot(x_values,regress_values,\"r-\")\n",
    "    x=x_values.mean()-5 #just trying to come up with a good way to get x&y so the equation will show up nicely on the graph.\n",
    "    y=y_values.mean()+5\n",
    "    plt.annotate(line_eq, (x,y),fontsize=15,color=\"red\")"
   ]
  },
  {
   "cell_type": "code",
   "execution_count": 55,
   "metadata": {},
   "outputs": [],
   "source": [
    "# Create Northern and Southern Hemisphere DataFrames\n",
    "\n",
    "northernCityDF = cityDF.loc[cityDF[\"Lat\"]>0]\n",
    "southernCityDF = cityDF.loc[cityDF[\"Lat\"]<0]"
   ]
  },
  {
   "cell_type": "markdown",
   "metadata": {},
   "source": [
    "####  Northern Hemisphere - Max Temp vs. Latitude Linear Regression"
   ]
  },
  {
   "cell_type": "code",
   "execution_count": 73,
   "metadata": {},
   "outputs": [
    {
     "data": {
      "image/png": "[encoded data removed]",
      "text/plain": [
       "<Figure size 432x288 with 1 Axes>"
      ]
     },
     "metadata": {
      "needs_background": "light"
     },
     "output_type": "display_data"
    }
   ],
   "source": [
    "xNTemp = northernCityDF[\"Max Temp\"]\n",
    "yNLat = northernCityDF[\"Lat\"]\n",
    "\n",
    "linreg(xNTemp,yNLat)\n",
    "plt.title(\"Max Temp (F) Compared with Lattitude for Cities in the Northern Hemisphere\")\n",
    "plt.xlabel(\"Max Temp (F) for Cities in Northern Hemisphere\")\n",
    "plt.ylabel(\"Lattitude of Northern Cities\")\n",
    "plt.show()"
   ]
  },
  {
   "cell_type": "markdown",
   "metadata": {},
   "source": [
    "####  Southern Hemisphere - Max Temp vs. Latitude Linear Regression"
   ]
  },
  {
   "cell_type": "code",
   "execution_count": 67,
   "metadata": {},
   "outputs": [
    {
     "data": {
      "image/png": "[encoded data removed]",
      "text/plain": [
       "<Figure size 432x288 with 1 Axes>"
      ]
     },
     "metadata": {
      "needs_background": "light"
     },
     "output_type": "display_data"
    }
   ],
   "source": [
    "xSTemp = southernCityDF[\"Max Temp\"]\n",
    "ySLat = southernCityDF[\"Lat\"]\n",
    "\n",
    "linreg(xSTemp, ySLat)\n",
    "plt.title(\"Max Temp (F) Compared with Lattitude for Cities in the Southern Hemisphere\")\n",
    "plt.xlabel(\"Max Temp (F) for Cities in Southern Hemisphere\")\n",
    "plt.ylabel(\"Lattitude of Southern Cities\")\n",
    "plt.show()"
   ]
  },
  {
   "cell_type": "markdown",
   "metadata": {},
   "source": [
    "####  Northern Hemisphere - Humidity (%) vs. Latitude Linear Regression"
   ]
  },
  {
   "cell_type": "code",
   "execution_count": 58,
   "metadata": {},
   "outputs": [
    {
     "data": {
      "image/png": "[encoded data removed]",
      "text/plain": [
       "<Figure size 432x288 with 1 Axes>"
      ]
     },
     "metadata": {
      "needs_background": "light"
     },
     "output_type": "display_data"
    }
   ],
   "source": [
    "xNHum = northernCityDF[\"Humidity\"]\n",
    "\n",
    "linreg(xNHum, yNLat)\n",
    "plt.title(\"Humidity (%) Compared with Lattitude for Cities in the Northern Hemisphere\")\n",
    "plt.xlabel(\"Humidity (%) for Cities in Northern Hemisphere\")\n",
    "plt.ylabel(\"Lattitude of Northern Cities\")\n",
    "plt.show()"
   ]
  },
  {
   "cell_type": "markdown",
   "metadata": {},
   "source": [
    "####  Southern Hemisphere - Humidity (%) vs. Latitude Linear Regression"
   ]
  },
  {
   "cell_type": "code",
   "execution_count": 68,
   "metadata": {},
   "outputs": [
    {
     "data": {
      "image/png": "[encoded data removed]",
      "text/plain": [
       "<Figure size 432x288 with 1 Axes>"
      ]
     },
     "metadata": {
      "needs_background": "light"
     },
     "output_type": "display_data"
    }
   ],
   "source": [
    "xSTemp = southernCityDF[\"Max Temp\"]\n",
    "\n",
    "linreg(xSTemp, ySLat)\n",
    "plt.title(\"Humidity (%) Compared with Lattitude for Cities in the Southern Hemisphere\")\n",
    "plt.xlabel(\"Humidity (%) for Cities in Southern Hemisphere\")\n",
    "plt.ylabel(\"Lattitude of Southern Cities\")\n",
    "plt.show()"
   ]
  },
  {
   "cell_type": "markdown",
   "metadata": {},
   "source": [
    "####  Northern Hemisphere - Cloudiness (%) vs. Latitude Linear Regression"
   ]
  },
  {
   "cell_type": "code",
   "execution_count": 74,
   "metadata": {},
   "outputs": [
    {
     "data": {
      "image/png": "[encoded data removed]",
      "text/plain": [
       "<Figure size 432x288 with 1 Axes>"
      ]
     },
     "metadata": {
      "needs_background": "light"
     },
     "output_type": "display_data"
    }
   ],
   "source": [
    "xNCloud = northernCityDF[\"Cloudiness\"]\n",
    "\n",
    "linreg(xNCloud, yNLat)\n",
    "plt.title(\"Cloudiness (%) compared with Lattitude of Cities in Northern Hemisphere\")\n",
    "plt.xlabel(\"Cloudiness (%) for Cities in Northern Hemisphere\")\n",
    "plt.ylabel(\"Lattitude of Northern Cities\")\n",
    "plt.show()"
   ]
  },
  {
   "cell_type": "markdown",
   "metadata": {},
   "source": [
    "####  Southern Hemisphere - Cloudiness (%) vs. Latitude Linear Regression"
   ]
  },
  {
   "cell_type": "code",
   "execution_count": 70,
   "metadata": {},
   "outputs": [
    {
     "data": {
      "image/png": "[encoded data removed]",
      "text/plain": [
       "<Figure size 432x288 with 1 Axes>"
      ]
     },
     "metadata": {
      "needs_background": "light"
     },
     "output_type": "display_data"
    }
   ],
   "source": [
    "xSCloud = southernCityDF[\"Cloudiness\"]\n",
    "\n",
    "linreg(xSCloud, ySLat)\n",
    "plt.title(\"Cloudiness (%) compared with Lattitude of Cities in Southern Hemisphere\")\n",
    "plt.xlabel(\"Cloudiness (%) for Cities in Southern Hemisphere\")\n",
    "plt.ylabel(\"Lattitude of Southern Cities\")\n",
    "plt.show()"
   ]
  },
  {
   "cell_type": "markdown",
   "metadata": {},
   "source": [
    "####  Northern Hemisphere - Wind Speed (mph) vs. Latitude Linear Regression"
   ]
  },
  {
   "cell_type": "code",
   "execution_count": 71,
   "metadata": {},
   "outputs": [
    {
     "data": {
      "image/png": "[encoded data removed]",
      "text/plain": [
       "<Figure size 432x288 with 1 Axes>"
      ]
     },
     "metadata": {
      "needs_background": "light"
     },
     "output_type": "display_data"
    }
   ],
   "source": [
    "xNWindSp = northernCityDF[\"Wind Speed\"]\n",
    "\n",
    "linreg(xNWindSp, yNLat)\n",
    "plt.title(\"Wind Speed (MPH) Compared with Lattitude for Cities in the Northern Hemisphere\")\n",
    "plt.xlabel(\"Wind Speed (MPH) for Cities in Northern Hemisphere\")\n",
    "plt.ylabel(\"Lattitude of Northern Cities\")\n",
    "plt.show()"
   ]
  },
  {
   "cell_type": "markdown",
   "metadata": {},
   "source": [
    "####  Southern Hemisphere - Wind Speed (mph) vs. Latitude Linear Regression"
   ]
  },
  {
   "cell_type": "code",
   "execution_count": 72,
   "metadata": {},
   "outputs": [
    {
     "data": {
      "image/png": "[encoded data removed]",
      "text/plain": [
       "<Figure size 432x288 with 1 Axes>"
      ]
     },
     "metadata": {
      "needs_background": "light"
     },
     "output_type": "display_data"
    }
   ],
   "source": [
    "xSWindSp = southernCityDF[\"Wind Speed\"]\n",
    "\n",
    "linreg(xSWindSp, ySLat)\n",
    "plt.title(\"Wind Speed (MPH) Compared with Lattitude for Cities in the Southern Hemisphere\")\n",
    "plt.xlabel(\"Wind Speed (MPH) for Cities in Southern Hemisphere\")\n",
    "plt.ylabel(\"Lattitude of Southern Cities\")\n",
    "plt.show()"
   ]
  },
  {
   "cell_type": "code",
   "execution_count": null,
   "metadata": {},
   "outputs": [],
   "source": []
  }
 ],
 "metadata": {
  "anaconda-cloud": {},
  "kernel_info": {
   "name": "python3"
  },
  "kernelspec": {
   "display_name": "Python 3",
   "language": "python",
   "name": "python3"
  },
  "language_info": {
   "codemirror_mode": {
    "name": "ipython",
    "version": 3
   },
   "file_extension": ".py",
   "mimetype": "text/x-python",
   "name": "python",
   "nbconvert_exporter": "python",
   "pygments_lexer": "ipython3",
   "version": "3.6.9"
  },
  "latex_envs": {
   "LaTeX_envs_menu_present": true,
   "autoclose": false,
   "autocomplete": true,
   "bibliofile": "biblio.bib",
   "cite_by": "apalike",
   "current_citInitial": 1,
   "eqLabelWithNumbers": true,
   "eqNumInitial": 1,
   "hotkeys": {
    "equation": "Ctrl-E",
    "itemize": "Ctrl-I"
   },
   "labels_anchors": false,
   "latex_user_defs": false,
   "report_style_numbering": false,
   "user_envs_cfg": false
  },
  "nteract": {
   "version": "0.12.3"
  }
 },
 "nbformat": 4,
 "nbformat_minor": 2
}
