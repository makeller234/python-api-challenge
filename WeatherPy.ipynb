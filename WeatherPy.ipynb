{
 "cells": [
  {
   "cell_type": "markdown",
   "metadata": {},
   "source": [
    "# WeatherPy\n",
    "----\n",
    "\n",
    "#### Note\n",
    "* Instructions have been included for each segment. You do not have to follow them exactly, but they are included to help you think through the steps."
   ]
  },
  {
   "cell_type": "code",
   "execution_count": 10,
   "metadata": {
    "scrolled": true
   },
   "outputs": [],
   "source": [
    "# Dependencies and Setup\n",
    "import matplotlib.pyplot as plt\n",
    "import pandas as pd\n",
    "import numpy as np\n",
    "import requests\n",
    "import time\n",
    "from scipy.stats import linregress\n",
    "\n",
    "# Import API key\n",
    "from api_keys import weather_api_key\n",
    "\n",
    "# Incorporated citipy to determine city based on latitude and longitude\n",
    "from citipy import citipy\n",
    "\n",
    "# Output File (CSV)\n",
    "output_data_file = \"output_data/cities.csv\"\n",
    "\n",
    "# Range of latitudes and longitudes\n",
    "lat_range = (-90, 90)\n",
    "lng_range = (-180, 180)"
   ]
  },
  {
   "cell_type": "markdown",
   "metadata": {},
   "source": [
    "## Generate Cities List"
   ]
  },
  {
   "cell_type": "code",
   "execution_count": 11,
   "metadata": {},
   "outputs": [
    {
     "data": {
      "text/plain": [
       "40"
      ]
     },
     "execution_count": 11,
     "metadata": {},
     "output_type": "execute_result"
    }
   ],
   "source": [
    "# List for holding lat_lngs and cities\n",
    "lat_lngs = []\n",
    "cities = []\n",
    "\n",
    "# Create a set of random lat and lng combinations\n",
    "lats = np.random.uniform(low=-90.000, high=90.000, size=1500)\n",
    "lngs = np.random.uniform(low=-180.000, high=180.000, size=1500)\n",
    "lat_lngs = zip(lats, lngs)\n",
    "\n",
    "# Identify nearest city for each lat, lng combination\n",
    "for lat_lng in lat_lngs:\n",
    "    city = citipy.nearest_city(lat_lng[0], lat_lng[1]).city_name\n",
    "    \n",
    "    # If the city is unique, then add it to a our cities list\n",
    "    if city not in cities:\n",
    "        cities.append(city)\n",
    "\n",
    "# Print the city count to confirm sufficient count\n",
    "cities = cities[:-590]\n",
    "len(cities)"
   ]
  },
  {
   "cell_type": "code",
   "execution_count": 6,
   "metadata": {},
   "outputs": [
    {
     "data": {
      "text/html": [
       "<div>\n",
       "<style scoped>\n",
       "    .dataframe tbody tr th:only-of-type {\n",
       "        vertical-align: middle;\n",
       "    }\n",
       "\n",
       "    .dataframe tbody tr th {\n",
       "        vertical-align: top;\n",
       "    }\n",
       "\n",
       "    .dataframe thead th {\n",
       "        text-align: right;\n",
       "    }\n",
       "</style>\n",
       "<table border=\"1\" class=\"dataframe\">\n",
       "  <thead>\n",
       "    <tr style=\"text-align: right;\">\n",
       "      <th></th>\n",
       "      <th>Name</th>\n",
       "      <th>ID</th>\n",
       "      <th>Lat</th>\n",
       "      <th>Lng</th>\n",
       "      <th>Max Temp</th>\n",
       "      <th>Humidity</th>\n",
       "      <th>Cloudiness</th>\n",
       "      <th>Wind Speed</th>\n",
       "    </tr>\n",
       "  </thead>\n",
       "  <tbody>\n",
       "    <tr>\n",
       "      <th>0</th>\n",
       "      <td>mataura</td>\n",
       "      <td></td>\n",
       "      <td></td>\n",
       "      <td></td>\n",
       "      <td></td>\n",
       "      <td></td>\n",
       "      <td></td>\n",
       "      <td></td>\n",
       "    </tr>\n",
       "    <tr>\n",
       "      <th>1</th>\n",
       "      <td>camocim</td>\n",
       "      <td></td>\n",
       "      <td></td>\n",
       "      <td></td>\n",
       "      <td></td>\n",
       "      <td></td>\n",
       "      <td></td>\n",
       "      <td></td>\n",
       "    </tr>\n",
       "    <tr>\n",
       "      <th>2</th>\n",
       "      <td>noumea</td>\n",
       "      <td></td>\n",
       "      <td></td>\n",
       "      <td></td>\n",
       "      <td></td>\n",
       "      <td></td>\n",
       "      <td></td>\n",
       "      <td></td>\n",
       "    </tr>\n",
       "    <tr>\n",
       "      <th>3</th>\n",
       "      <td>krapivinskiy</td>\n",
       "      <td></td>\n",
       "      <td></td>\n",
       "      <td></td>\n",
       "      <td></td>\n",
       "      <td></td>\n",
       "      <td></td>\n",
       "      <td></td>\n",
       "    </tr>\n",
       "    <tr>\n",
       "      <th>4</th>\n",
       "      <td>atuona</td>\n",
       "      <td></td>\n",
       "      <td></td>\n",
       "      <td></td>\n",
       "      <td></td>\n",
       "      <td></td>\n",
       "      <td></td>\n",
       "      <td></td>\n",
       "    </tr>\n",
       "  </tbody>\n",
       "</table>\n",
       "</div>"
      ],
      "text/plain": [
       "           Name ID Lat Lng Max Temp Humidity Cloudiness Wind Speed\n",
       "0       mataura                                                   \n",
       "1       camocim                                                   \n",
       "2        noumea                                                   \n",
       "3  krapivinskiy                                                   \n",
       "4        atuona                                                   "
      ]
     },
     "execution_count": 6,
     "metadata": {},
     "output_type": "execute_result"
    }
   ],
   "source": [
    "#create dataframe for city info\n",
    "cityDF = pd.DataFrame(columns = [\"Name\", \"ID\", \"Lat\", \"Lng\"])\n",
    "cityDF[\"Name\"] = cities\n",
    "cityDF[\"ID\"] = \"\"\n",
    "cityDF[\"Lat\"] = \"\"\n",
    "cityDF[\"Lng\"] = \"\"\n",
    "cityDF[\"Max Temp\"] =\"\"\n",
    "cityDF[\"Humidity\"]=\"\"\n",
    "cityDF[\"Cloudiness\"]=\"\"\n",
    "cityDF[\"Wind Speed\"]=\"\"\n",
    "cityDF.head()"
   ]
  },
  {
   "cell_type": "markdown",
   "metadata": {},
   "source": [
    "### Perform API Calls\n",
    "* Perform a weather check on each city using a series of successive API calls.\n",
    "* Include a print log of each city as it'sbeing processed (with the city number and city name).\n"
   ]
  },
  {
   "cell_type": "code",
   "execution_count": 7,
   "metadata": {},
   "outputs": [
    {
     "name": "stdout",
     "output_type": "stream",
     "text": [
      "City Name: Mataura. City ID: 6201424.\n",
      "City Name: Camocim. City ID: 3403687.\n",
      "City Name: Noumea. City ID: 2139521.\n",
      "City Name: Krapivinskiy. City ID: 1502192.\n",
      "City Name: Atuona. City ID: 4020109.\n",
      "City Name: Norton. City ID: 884141.\n",
      "City Name: Labuhan. City ID: 8079926.\n",
      "City Name: George Town. City ID: 1735106.\n",
      "City Name: Busselton. City ID: 2075265.\n",
      "City Name: Hermanus. City ID: 3366880.\n",
      "City Name: Lazo. City ID: 2020888.\n",
      "City Name: Dikson. City ID: 1507390.\n",
      "City Name: Hong Kong. City ID: 1819729.\n",
      "City Name: Phuthaditjhaba. City ID: 965401.\n",
      "City Name: Hobart. City ID: 2163355.\n",
      "City Name: Santa Rosa. City ID: 1687894.\n",
      "City Name: Castro. City ID: 3466704.\n",
      "City Name: Doha. City ID: 290030.\n",
      "City Name: Sao Joao da Barra. City ID: 3448903.\n",
      "City Name: Petropavlovsk-Kamchatsky. City ID: 2122104.\n",
      "City Name: Dakar. City ID: 2253354.\n",
      "City Name: Margate. City ID: 2643044.\n",
      "City Name: Pontes e Lacerda. City ID: 3453060.\n",
      "City Name: Faanui. City ID: 4034551.\n",
      "City Name: Ushuaia. City ID: 3833367.\n",
      "City Name: Punta Arenas. City ID: 3874787.\n",
      "City Name: Hithadhoo. City ID: 1282256.\n",
      "City Name: Ruteng. City ID: 1629380.\n",
      "City Name: Tombouctou. City ID: 2449066.\n",
      "City Name: Phan Thiet. City ID: 1571058.\n",
      "City Name: Chui. City ID: 3443061.\n",
      "City Name: Butaritari. City ID: 2110227.\n",
      "City Name: Rikitea. City ID: 4030556.\n",
      "City Name: Khatanga. City ID: 2022572.\n",
      "City Name: Port Alfred. City ID: 964432.\n",
      "City Name: Luziania. City ID: 3458329.\n",
      "City Name: Nanortalik. City ID: 3421765.\n",
      "City Name: Avarua. City ID: 4035715.\n",
      "City Name: Makat. City ID: 608872.\n",
      "City Name: Barrow. City ID: 5880054.\n",
      "City Name: Grindavik. City ID: 3416888.\n",
      "City Name: Yulara. City ID: 6355222.\n",
      "City Name: Kodiak. City ID: 5866583.\n",
      "City Name: Baruun-Urt. City ID: 2032614.\n",
      "City Name: West Plains. City ID: 4414200.\n"
     ]
    }
   ],
   "source": [
    "units = \"imperial\"\n",
    "url = \"http://api.openweathermap.org/data/2.5/weather?\"\n",
    "i = 0\n",
    "for city in cities:\n",
    "    queryURL = f\"{url}appid={weather_api_key}&q={city}&units={units}\"\n",
    "    \n",
    "    citiesResponse = requests.get(queryURL)\n",
    "    citiesJson = citiesResponse.json()\n",
    "    \n",
    "    \n",
    "    try:\n",
    "        cityName = citiesJson[\"name\"]\n",
    "        cityID = citiesJson[\"id\"]\n",
    "        print(f\"City Name: {cityName}. City ID: {cityID}.\")\n",
    "        cityDF.iloc[i,1] = cityID\n",
    "        cityDF.iloc[i,2] = citiesJson[\"coord\"][\"lat\"]\n",
    "        cityDF.iloc[i,3] = citiesJson[\"coord\"][\"lon\"]\n",
    "        cityDF.iloc[i,4] = citiesJson[\"main\"][\"temp_max\"]\n",
    "        cityDF.iloc[i,5] = citiesJson[\"main\"][\"humidity\"]\n",
    "        cityDF.iloc[i,6] = citiesJson[\"clouds\"][\"all\"]\n",
    "        cityDF.iloc[i,7] = citiesJson[\"wind\"][\"speed\"]        \n",
    "\n",
    "    except (KeyError):\n",
    "        print(\"OH NO!!!!!!!!!!\")\n",
    "    \n",
    "    i+=1"
   ]
  },
  {
   "cell_type": "code",
   "execution_count": 8,
   "metadata": {},
   "outputs": [],
   "source": [
    "#format to number formats and drop NAs\n",
    "\n",
    "cityDF[[\"ID\", \"Lat\", \"Lng\", \"Max Temp\", \"Humidity\", \"Cloudiness\", \"Wind Speed\"]] = \\\n",
    "    cityDF[[\"ID\", \"Lat\", \"Lng\", \"Max Temp\", \"Humidity\", \"Cloudiness\", \"Wind Speed\"]].apply(pd.to_numeric)\n",
    "\n",
    "cityDF = cityDF.dropna()\n"
   ]
  },
  {
   "cell_type": "markdown",
   "metadata": {},
   "source": [
    "### Convert Raw Data to DataFrame\n",
    "* Export the city data into a .csv.\n",
    "* Display the DataFrame"
   ]
  },
  {
   "cell_type": "code",
   "execution_count": 9,
   "metadata": {},
   "outputs": [
    {
     "ename": "FileNotFoundError",
     "evalue": "[Errno 2] No such file or directory: 'output_data/cities.csv'",
     "output_type": "error",
     "traceback": [
      "\u001b[0;31m---------------------------------------------------------------------------\u001b[0m",
      "\u001b[0;31mFileNotFoundError\u001b[0m                         Traceback (most recent call last)",
      "\u001b[0;32m<ipython-input-9-bcb14d89527f>\u001b[0m in \u001b[0;36m<module>\u001b[0;34m\u001b[0m\n\u001b[0;32m----> 1\u001b[0;31m \u001b[0mcityDF\u001b[0m\u001b[0;34m.\u001b[0m\u001b[0mto_csv\u001b[0m\u001b[0;34m(\u001b[0m\u001b[0moutput_data_file\u001b[0m\u001b[0;34m)\u001b[0m\u001b[0;34m\u001b[0m\u001b[0;34m\u001b[0m\u001b[0m\n\u001b[0m",
      "\u001b[0;32m~/anaconda3/envs/PythonData/lib/python3.6/site-packages/pandas/core/generic.py\u001b[0m in \u001b[0;36mto_csv\u001b[0;34m(self, path_or_buf, sep, na_rep, float_format, columns, header, index, index_label, mode, encoding, compression, quoting, quotechar, line_terminator, chunksize, date_format, doublequote, escapechar, decimal)\u001b[0m\n\u001b[1;32m   3226\u001b[0m             \u001b[0mdecimal\u001b[0m\u001b[0;34m=\u001b[0m\u001b[0mdecimal\u001b[0m\u001b[0;34m,\u001b[0m\u001b[0;34m\u001b[0m\u001b[0;34m\u001b[0m\u001b[0m\n\u001b[1;32m   3227\u001b[0m         )\n\u001b[0;32m-> 3228\u001b[0;31m         \u001b[0mformatter\u001b[0m\u001b[0;34m.\u001b[0m\u001b[0msave\u001b[0m\u001b[0;34m(\u001b[0m\u001b[0;34m)\u001b[0m\u001b[0;34m\u001b[0m\u001b[0;34m\u001b[0m\u001b[0m\n\u001b[0m\u001b[1;32m   3229\u001b[0m \u001b[0;34m\u001b[0m\u001b[0m\n\u001b[1;32m   3230\u001b[0m         \u001b[0;32mif\u001b[0m \u001b[0mpath_or_buf\u001b[0m \u001b[0;32mis\u001b[0m \u001b[0;32mNone\u001b[0m\u001b[0;34m:\u001b[0m\u001b[0;34m\u001b[0m\u001b[0;34m\u001b[0m\u001b[0m\n",
      "\u001b[0;32m~/anaconda3/envs/PythonData/lib/python3.6/site-packages/pandas/io/formats/csvs.py\u001b[0m in \u001b[0;36msave\u001b[0;34m(self)\u001b[0m\n\u001b[1;32m    181\u001b[0m                 \u001b[0mself\u001b[0m\u001b[0;34m.\u001b[0m\u001b[0mmode\u001b[0m\u001b[0;34m,\u001b[0m\u001b[0;34m\u001b[0m\u001b[0;34m\u001b[0m\u001b[0m\n\u001b[1;32m    182\u001b[0m                 \u001b[0mencoding\u001b[0m\u001b[0;34m=\u001b[0m\u001b[0mself\u001b[0m\u001b[0;34m.\u001b[0m\u001b[0mencoding\u001b[0m\u001b[0;34m,\u001b[0m\u001b[0;34m\u001b[0m\u001b[0;34m\u001b[0m\u001b[0m\n\u001b[0;32m--> 183\u001b[0;31m                 \u001b[0mcompression\u001b[0m\u001b[0;34m=\u001b[0m\u001b[0mself\u001b[0m\u001b[0;34m.\u001b[0m\u001b[0mcompression\u001b[0m\u001b[0;34m,\u001b[0m\u001b[0;34m\u001b[0m\u001b[0;34m\u001b[0m\u001b[0m\n\u001b[0m\u001b[1;32m    184\u001b[0m             )\n\u001b[1;32m    185\u001b[0m             \u001b[0mclose\u001b[0m \u001b[0;34m=\u001b[0m \u001b[0;32mTrue\u001b[0m\u001b[0;34m\u001b[0m\u001b[0;34m\u001b[0m\u001b[0m\n",
      "\u001b[0;32m~/anaconda3/envs/PythonData/lib/python3.6/site-packages/pandas/io/common.py\u001b[0m in \u001b[0;36m_get_handle\u001b[0;34m(path_or_buf, mode, encoding, compression, memory_map, is_text)\u001b[0m\n\u001b[1;32m    397\u001b[0m         \u001b[0;32mif\u001b[0m \u001b[0mencoding\u001b[0m\u001b[0;34m:\u001b[0m\u001b[0;34m\u001b[0m\u001b[0;34m\u001b[0m\u001b[0m\n\u001b[1;32m    398\u001b[0m             \u001b[0;31m# Encoding\u001b[0m\u001b[0;34m\u001b[0m\u001b[0;34m\u001b[0m\u001b[0;34m\u001b[0m\u001b[0m\n\u001b[0;32m--> 399\u001b[0;31m             \u001b[0mf\u001b[0m \u001b[0;34m=\u001b[0m \u001b[0mopen\u001b[0m\u001b[0;34m(\u001b[0m\u001b[0mpath_or_buf\u001b[0m\u001b[0;34m,\u001b[0m \u001b[0mmode\u001b[0m\u001b[0;34m,\u001b[0m \u001b[0mencoding\u001b[0m\u001b[0;34m=\u001b[0m\u001b[0mencoding\u001b[0m\u001b[0;34m,\u001b[0m \u001b[0mnewline\u001b[0m\u001b[0;34m=\u001b[0m\u001b[0;34m\"\"\u001b[0m\u001b[0;34m)\u001b[0m\u001b[0;34m\u001b[0m\u001b[0;34m\u001b[0m\u001b[0m\n\u001b[0m\u001b[1;32m    400\u001b[0m         \u001b[0;32melif\u001b[0m \u001b[0mis_text\u001b[0m\u001b[0;34m:\u001b[0m\u001b[0;34m\u001b[0m\u001b[0;34m\u001b[0m\u001b[0m\n\u001b[1;32m    401\u001b[0m             \u001b[0;31m# No explicit encoding\u001b[0m\u001b[0;34m\u001b[0m\u001b[0;34m\u001b[0m\u001b[0;34m\u001b[0m\u001b[0m\n",
      "\u001b[0;31mFileNotFoundError\u001b[0m: [Errno 2] No such file or directory: 'output_data/cities.csv'"
     ]
    }
   ],
   "source": [
    "cityDF.to_csv(output_data_file)"
   ]
  },
  {
   "cell_type": "code",
   "execution_count": null,
   "metadata": {},
   "outputs": [],
   "source": [
    "cityDF"
   ]
  },
  {
   "cell_type": "markdown",
   "metadata": {},
   "source": [
    "### Plotting the Data\n",
    "* Use proper labeling of the plots using plot titles (including date of analysis) and axes labels.\n",
    "* Save the plotted figures as .pngs."
   ]
  },
  {
   "cell_type": "markdown",
   "metadata": {},
   "source": [
    "#### Latitude vs. Temperature Plot"
   ]
  },
  {
   "cell_type": "code",
   "execution_count": null,
   "metadata": {
    "scrolled": true
   },
   "outputs": [],
   "source": [
    "xTemp = cityDF[\"Max Temp\"]\n",
    "yLat = cityDF[\"Lat\"]\n",
    "\n",
    "plt.scatter(xTemp, yLat)\n",
    "plt.title(\"Max Temp Compared to Latitude\")\n",
    "plt.xlabel(\"Max Temp (F)\")\n",
    "plt.ylabel(\"Latitude\")\n",
    "plt.show()"
   ]
  },
  {
   "cell_type": "markdown",
   "metadata": {},
   "source": [
    "#### Latitude vs. Humidity Plot"
   ]
  },
  {
   "cell_type": "code",
   "execution_count": null,
   "metadata": {},
   "outputs": [],
   "source": [
    "xHum = cityDF[\"Humidity\"]\n",
    "#using same yLat as above\n",
    "\n",
    "plt.scatter(xHum, yLat)\n",
    "plt.title(\"Humidity Compared to Latitude\")\n",
    "plt.xlabel(\"Humidity (%)\")\n",
    "plt.ylabel(\"Latitude\")\n",
    "plt.show()"
   ]
  },
  {
   "cell_type": "markdown",
   "metadata": {},
   "source": [
    "#### Latitude vs. Cloudiness Plot"
   ]
  },
  {
   "cell_type": "code",
   "execution_count": null,
   "metadata": {},
   "outputs": [],
   "source": [
    "xCloud = cityDF[\"Cloudiness\"]\n",
    "#using same yLat as above\n",
    "\n",
    "plt.scatter(xCloud, yLat)\n",
    "plt.title(\"Cloudiness Compared to Latitude\")\n",
    "plt.xlabel(\"Cloudiness (%)\")\n",
    "plt.ylabel(\"Latitude\")\n",
    "plt.show()"
   ]
  },
  {
   "cell_type": "markdown",
   "metadata": {},
   "source": [
    "#### Latitude vs. Wind Speed Plot"
   ]
  },
  {
   "cell_type": "code",
   "execution_count": null,
   "metadata": {},
   "outputs": [],
   "source": [
    "xWindSp = cityDF[\"Wind Speed\"]\n",
    "#using same yLat as above\n",
    "\n",
    "plt.scatter(xWindSp, yLat)\n",
    "plt.title(\"Wind Speed Compared to Latitude\")\n",
    "plt.xlabel(\"Wind Speed (MPH)\")\n",
    "plt.ylabel(\"Latitude\")\n",
    "plt.show()"
   ]
  },
  {
   "cell_type": "markdown",
   "metadata": {},
   "source": [
    "## Linear Regression"
   ]
  },
  {
   "cell_type": "code",
   "execution_count": null,
   "metadata": {},
   "outputs": [],
   "source": [
    "# OPTIONAL: Create a function to create Linear Regression plots\n",
    "def linreg(x_values, y_values):\n",
    "    (slope, intercept, rvalue, pvalue, stderr) = linregress(x_values, y_values)\n",
    "    regress_values = x_values * slope + intercept\n",
    "    line_eq = \"y = \" + str(round(slope,2)) + \"x + \" + str(round(intercept,2))\n",
    "    plt.scatter(x_values,y_values)\n",
    "    plt.plot(x_values,regress_values,\"r-\")\n",
    "    x=x_values.mean()-5 #just trying to come up with a good way to get x&y so the equation will show up nicely on the graph.\n",
    "    y=y_values.mean()+5\n",
    "    plt.annotate(line_eq, (x,y),fontsize=15,color=\"red\")"
   ]
  },
  {
   "cell_type": "code",
   "execution_count": null,
   "metadata": {},
   "outputs": [],
   "source": [
    "# Create Northern and Southern Hemisphere DataFrames\n",
    "\n",
    "northernCityDF = cityDF.loc[cityDF[\"Lat\"]>0]\n",
    "southernCityDF = cityDF.loc[cityDF[\"Lat\"]<0]"
   ]
  },
  {
   "cell_type": "markdown",
   "metadata": {},
   "source": [
    "####  Northern Hemisphere - Max Temp vs. Latitude Linear Regression"
   ]
  },
  {
   "cell_type": "code",
   "execution_count": null,
   "metadata": {},
   "outputs": [],
   "source": [
    "xNTemp = northernCityDF[\"Max Temp\"]\n",
    "yNLat = northernCityDF[\"Lat\"]\n",
    "\n",
    "linreg(xNTemp,yNLat)\n",
    "plt.title(\"Max Temp (F) Compared with Lattitude for Cities in the Northern Hemisphere\")\n",
    "plt.xlabel(\"Max Temp (F) for Cities in Northern Hemisphere\")\n",
    "plt.ylabel(\"Lattitude of Northern Cities\")\n",
    "plt.show()"
   ]
  },
  {
   "cell_type": "markdown",
   "metadata": {},
   "source": [
    "####  Southern Hemisphere - Max Temp vs. Latitude Linear Regression"
   ]
  },
  {
   "cell_type": "code",
   "execution_count": null,
   "metadata": {},
   "outputs": [],
   "source": [
    "xSTemp = southernCityDF[\"Max Temp\"]\n",
    "ySLat = southernCityDF[\"Lat\"]\n",
    "\n",
    "linreg(xSTemp, ySLat)\n",
    "plt.title(\"Max Temp (F) Compared with Lattitude for Cities in the Southern Hemisphere\")\n",
    "plt.xlabel(\"Max Temp (F) for Cities in Southern Hemisphere\")\n",
    "plt.ylabel(\"Lattitude of Southern Cities\")\n",
    "plt.show()"
   ]
  },
  {
   "cell_type": "markdown",
   "metadata": {},
   "source": [
    "####  Northern Hemisphere - Humidity (%) vs. Latitude Linear Regression"
   ]
  },
  {
   "cell_type": "code",
   "execution_count": null,
   "metadata": {},
   "outputs": [],
   "source": [
    "xNHum = northernCityDF[\"Humidity\"]\n",
    "\n",
    "linreg(xNHum, yNLat)\n",
    "plt.title(\"Humidity (%) Compared with Lattitude for Cities in the Northern Hemisphere\")\n",
    "plt.xlabel(\"Humidity (%) for Cities in Northern Hemisphere\")\n",
    "plt.ylabel(\"Lattitude of Northern Cities\")\n",
    "plt.show()"
   ]
  },
  {
   "cell_type": "markdown",
   "metadata": {},
   "source": [
    "####  Southern Hemisphere - Humidity (%) vs. Latitude Linear Regression"
   ]
  },
  {
   "cell_type": "code",
   "execution_count": null,
   "metadata": {},
   "outputs": [],
   "source": [
    "xSTemp = southernCityDF[\"Max Temp\"]\n",
    "\n",
    "linreg(xSTemp, ySLat)\n",
    "plt.title(\"Humidity (%) Compared with Lattitude for Cities in the Southern Hemisphere\")\n",
    "plt.xlabel(\"Humidity (%) for Cities in Southern Hemisphere\")\n",
    "plt.ylabel(\"Lattitude of Southern Cities\")\n",
    "plt.show()"
   ]
  },
  {
   "cell_type": "markdown",
   "metadata": {},
   "source": [
    "####  Northern Hemisphere - Cloudiness (%) vs. Latitude Linear Regression"
   ]
  },
  {
   "cell_type": "code",
   "execution_count": null,
   "metadata": {},
   "outputs": [],
   "source": [
    "xNCloud = northernCityDF[\"Cloudiness\"]\n",
    "\n",
    "linreg(xNCloud, yNLat)\n",
    "plt.title(\"Cloudiness (%) compared with Lattitude of Cities in Northern Hemisphere\")\n",
    "plt.xlabel(\"Cloudiness (%) for Cities in Northern Hemisphere\")\n",
    "plt.ylabel(\"Lattitude of Northern Cities\")\n",
    "plt.show()"
   ]
  },
  {
   "cell_type": "markdown",
   "metadata": {},
   "source": [
    "####  Southern Hemisphere - Cloudiness (%) vs. Latitude Linear Regression"
   ]
  },
  {
   "cell_type": "code",
   "execution_count": null,
   "metadata": {},
   "outputs": [],
   "source": [
    "xSCloud = southernCityDF[\"Cloudiness\"]\n",
    "\n",
    "linreg(xSCloud, ySLat)\n",
    "plt.title(\"Cloudiness (%) compared with Lattitude of Cities in Southern Hemisphere\")\n",
    "plt.xlabel(\"Cloudiness (%) for Cities in Southern Hemisphere\")\n",
    "plt.ylabel(\"Lattitude of Southern Cities\")\n",
    "plt.show()"
   ]
  },
  {
   "cell_type": "markdown",
   "metadata": {},
   "source": [
    "####  Northern Hemisphere - Wind Speed (mph) vs. Latitude Linear Regression"
   ]
  },
  {
   "cell_type": "code",
   "execution_count": null,
   "metadata": {},
   "outputs": [],
   "source": [
    "xNWindSp = northernCityDF[\"Wind Speed\"]\n",
    "\n",
    "linreg(xNWindSp, yNLat)\n",
    "plt.title(\"Wind Speed (MPH) Compared with Lattitude for Cities in the Northern Hemisphere\")\n",
    "plt.xlabel(\"Wind Speed (MPH) for Cities in Northern Hemisphere\")\n",
    "plt.ylabel(\"Lattitude of Northern Cities\")\n",
    "plt.show()"
   ]
  },
  {
   "cell_type": "markdown",
   "metadata": {},
   "source": [
    "####  Southern Hemisphere - Wind Speed (mph) vs. Latitude Linear Regression"
   ]
  },
  {
   "cell_type": "code",
   "execution_count": null,
   "metadata": {},
   "outputs": [],
   "source": [
    "xSWindSp = southernCityDF[\"Wind Speed\"]\n",
    "\n",
    "linreg(xSWindSp, ySLat)\n",
    "plt.title(\"Wind Speed (MPH) Compared with Lattitude for Cities in the Southern Hemisphere\")\n",
    "plt.xlabel(\"Wind Speed (MPH) for Cities in Southern Hemisphere\")\n",
    "plt.ylabel(\"Lattitude of Southern Cities\")\n",
    "plt.show()"
   ]
  },
  {
   "cell_type": "code",
   "execution_count": null,
   "metadata": {},
   "outputs": [],
   "source": []
  }
 ],
 "metadata": {
  "anaconda-cloud": {},
  "kernel_info": {
   "name": "python3"
  },
  "kernelspec": {
   "display_name": "Python 3",
   "language": "python",
   "name": "python3"
  },
  "language_info": {
   "codemirror_mode": {
    "name": "ipython",
    "version": 3
   },
   "file_extension": ".py",
   "mimetype": "text/x-python",
   "name": "python",
   "nbconvert_exporter": "python",
   "pygments_lexer": "ipython3",
   "version": "3.6.9"
  },
  "latex_envs": {
   "LaTeX_envs_menu_present": true,
   "autoclose": false,
   "autocomplete": true,
   "bibliofile": "biblio.bib",
   "cite_by": "apalike",
   "current_citInitial": 1,
   "eqLabelWithNumbers": true,
   "eqNumInitial": 1,
   "hotkeys": {
    "equation": "Ctrl-E",
    "itemize": "Ctrl-I"
   },
   "labels_anchors": false,
   "latex_user_defs": false,
   "report_style_numbering": false,
   "user_envs_cfg": false
  },
  "nteract": {
   "version": "0.12.3"
  }
 },
 "nbformat": 4,
 "nbformat_minor": 2
}
