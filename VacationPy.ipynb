{
 "cells": [
  {
   "cell_type": "markdown",
   "metadata": {},
   "source": [
    "# VacationPy\n",
    "----\n",
    "\n",
    "#### Note\n",
    "* Instructions have been included for each segment. You do not have to follow them exactly, but they are included to help you think through the steps."
   ]
  },
  {
   "cell_type": "code",
   "execution_count": 1,
   "metadata": {},
   "outputs": [],
   "source": [
    "# Dependencies and Setup\n",
    "import matplotlib.pyplot as plt\n",
    "import pandas as pd\n",
    "import numpy as np\n",
    "import requests\n",
    "import gmaps\n",
    "import os\n",
    "import json\n",
    "\n",
    "# Import API key\n",
    "from api_keys import g_key"
   ]
  },
  {
   "cell_type": "markdown",
   "metadata": {},
   "source": [
    "\n",
    "### Store Part I results into DataFrame\n",
    "* Load the csv exported in Part I to a DataFrame"
   ]
  },
  {
   "cell_type": "code",
   "execution_count": 2,
   "metadata": {},
   "outputs": [
    {
     "data": {
      "text/html": [
       "<div>\n",
       "<style scoped>\n",
       "    .dataframe tbody tr th:only-of-type {\n",
       "        vertical-align: middle;\n",
       "    }\n",
       "\n",
       "    .dataframe tbody tr th {\n",
       "        vertical-align: top;\n",
       "    }\n",
       "\n",
       "    .dataframe thead th {\n",
       "        text-align: right;\n",
       "    }\n",
       "</style>\n",
       "<table border=\"1\" class=\"dataframe\">\n",
       "  <thead>\n",
       "    <tr style=\"text-align: right;\">\n",
       "      <th></th>\n",
       "      <th>Name</th>\n",
       "      <th>ID</th>\n",
       "      <th>Lat</th>\n",
       "      <th>Lng</th>\n",
       "      <th>Max Temp</th>\n",
       "      <th>Humidity</th>\n",
       "      <th>Cloudiness</th>\n",
       "      <th>Wind Speed</th>\n",
       "    </tr>\n",
       "  </thead>\n",
       "  <tbody>\n",
       "    <tr>\n",
       "      <th>0</th>\n",
       "      <td>majene</td>\n",
       "      <td>1636806.0</td>\n",
       "      <td>-3.54</td>\n",
       "      <td>118.97</td>\n",
       "      <td>75.61</td>\n",
       "      <td>91.0</td>\n",
       "      <td>95.0</td>\n",
       "      <td>3.76</td>\n",
       "    </tr>\n",
       "  </tbody>\n",
       "</table>\n",
       "</div>"
      ],
      "text/plain": [
       "     Name         ID   Lat     Lng  Max Temp  Humidity  Cloudiness  Wind Speed\n",
       "0  majene  1636806.0 -3.54  118.97     75.61      91.0        95.0        3.76"
      ]
     },
     "execution_count": 2,
     "metadata": {},
     "output_type": "execute_result"
    }
   ],
   "source": [
    "cities = pd.read_csv(\"output_data/cities.csv\")\n",
    "cities.head(1)"
   ]
  },
  {
   "cell_type": "markdown",
   "metadata": {},
   "source": [
    "### Humidity Heatmap\n",
    "* Configure gmaps.\n",
    "* Use the Lat and Lng as locations and Humidity as the weight.\n",
    "* Add Heatmap layer to map."
   ]
  },
  {
   "cell_type": "code",
   "execution_count": 3,
   "metadata": {},
   "outputs": [],
   "source": [
    "gmaps.configure(api_key=g_key)\n",
    "locations = cities[[\"Lat\", \"Lng\"]]\n",
    "humidity = cities[\"Humidity\"]\n",
    "maxHumidity = cities[\"Humidity\"].max()"
   ]
  },
  {
   "cell_type": "code",
   "execution_count": 4,
   "metadata": {},
   "outputs": [
    {
     "data": {
      "application/vnd.jupyter.widget-view+json": {
       "model_id": "989d2227e9ed490f8634922afde0e879",
       "version_major": 2,
       "version_minor": 0
      },
      "text/plain": [
       "Figure(layout=FigureLayout(height='420px'))"
      ]
     },
     "metadata": {},
     "output_type": "display_data"
    }
   ],
   "source": [
    "fig = gmaps.figure(center=(15,20), zoom_level=1.75)\n",
    "\n",
    "heat_layer = gmaps.heatmap_layer(locations, weights=humidity, \n",
    "                                 dissipating=False, max_intensity=maxHumidity,\n",
    "                                 point_radius = 2)\n",
    "\n",
    "fig.add_layer(heat_layer)\n",
    "fig\n"
   ]
  },
  {
   "cell_type": "markdown",
   "metadata": {},
   "source": [
    "### Create new DataFrame fitting weather criteria\n",
    "* Narrow down the cities to fit weather conditions.\n",
    "* Drop any rows will null values."
   ]
  },
  {
   "cell_type": "code",
   "execution_count": 6,
   "metadata": {},
   "outputs": [],
   "source": [
    "#I chose ideal the ideal city weather based on what I like, coldish and cloudy.\n",
    "\n",
    "narrowed_city_df = cities.loc[((cities[\"Max Temp\"]<40) & (cities[\"Max Temp\"]>30)) & (cities[\"Wind Speed\"]<=8) & \\\n",
    "                                (cities[\"Cloudiness\"]>65)]\n",
    "narrowed_city_df = narrowed_city_df.dropna()"
   ]
  },
  {
   "cell_type": "markdown",
   "metadata": {},
   "source": [
    "### Hotel Map\n",
    "* Store into variable named `hotel_df`.\n",
    "* Add a \"Hotel Name\" column to the DataFrame.\n",
    "* Set parameters to search for hotels with 5000 meters.\n",
    "* Hit the Google Places API for each city's coordinates.\n",
    "* Store the first Hotel result into the DataFrame.\n",
    "* Plot markers on top of the heatmap."
   ]
  },
  {
   "cell_type": "code",
   "execution_count": 8,
   "metadata": {},
   "outputs": [],
   "source": [
    "hotel_df = pd.DataFrame(columns = [\"Hotel Name\"])\n",
    "\n",
    "hotel_df[\"Hotel Name\"]= \"\"\n",
    "hotel_df[\"Lat\"] = \"\"\n",
    "hotel_df[\"Lng\"] = \"\"\n",
    "hotel_df[\"City\"] = \"\"\n",
    "hotel_df[\"Country\"]= \"\"\n",
    "hotel_df[\"PlaceID\"]=\"\""
   ]
  },
  {
   "cell_type": "code",
   "execution_count": null,
   "metadata": {},
   "outputs": [],
   "source": [
    "# #test for single call\n",
    "\n",
    "# target_coordinates = \"41.37, -73.41\"\n",
    "# target_search = \"lodging\"\n",
    "# target_radius = 5000\n",
    "\n",
    "\n",
    "# # set up a parameters dictionary\n",
    "# params = {\n",
    "#     \"location\": target_coordinates,\n",
    "#     \"keyword\": target_search,\n",
    "#     \"radius\": target_radius,\n",
    "#     \"key\": g_key\n",
    "# }\n",
    "\n",
    "# # base url\n",
    "# base_url = \"https://maps.googleapis.com/maps/api/place/nearbysearch/json\"\n",
    "\n",
    "# # run a request using our params dictionary\n",
    "# response = requests.get(base_url, params=params)\n",
    "\n",
    "# # convert response to json\n",
    "# cityHotel = response.json()\n",
    "# print(json.dumps(cityHotel, indent=4, sort_keys=True))"
   ]
  },
  {
   "cell_type": "code",
   "execution_count": 9,
   "metadata": {},
   "outputs": [
    {
     "name": "stdout",
     "output_type": "stream",
     "text": [
      "Ruh-Roh, no data. Skipping...\n",
      "Ruh-Roh, no data. Skipping...\n"
     ]
    }
   ],
   "source": [
    "for index, row in narrowed_city_df.iterrows():\n",
    "    \n",
    "    lat = row[\"Lat\"]\n",
    "    lng = row[\"Lng\"]\n",
    "    \n",
    "    # geocoordinates\n",
    "    target_coordinates = f\"{lat}, {lng}\"\n",
    "    target_search = \"lodging\"\n",
    "    target_radius = 5000\n",
    "\n",
    "\n",
    "    # set up a parameters dictionary\n",
    "    params = {\n",
    "        \"location\": target_coordinates,\n",
    "        \"keyword\": target_search,\n",
    "        \"radius\": target_radius,\n",
    "        \"key\": g_key\n",
    "    }\n",
    "\n",
    "    # base url\n",
    "    base_url = \"https://maps.googleapis.com/maps/api/place/nearbysearch/json\"\n",
    "\n",
    "    # run a request using our params dictionary\n",
    "    response = requests.get(base_url, params=params)\n",
    "\n",
    "    # convert response to json\n",
    "    cityHotel = response.json()\n",
    "    try:\n",
    "        hotel_df.loc[index, \"Hotel Name\"] = cityHotel[\"results\"][0][\"name\"]\n",
    "        hotel_df.loc[index, \"Lat\"] = cityHotel[\"results\"][0][\"geometry\"][\"location\"][\"lat\"]\n",
    "        hotel_df.loc[index, \"Lng\"] = cityHotel[\"results\"][0][\"geometry\"][\"location\"][\"lng\"]\n",
    "        hotel_df.loc[index, \"PlaceID\"] = cityHotel[\"results\"][0][\"place_id\"]\n",
    "        #hotel_df.loc[index, \"Vicinity\"] = cityHotel[\"results\"][0][\"vicinity\"]\n",
    "    except:\n",
    "        print(\"Ruh-Roh, no data. Skipping...\")"
   ]
  },
  {
   "cell_type": "code",
   "execution_count": 10,
   "metadata": {},
   "outputs": [
    {
     "data": {
      "text/html": [
       "<div>\n",
       "<style scoped>\n",
       "    .dataframe tbody tr th:only-of-type {\n",
       "        vertical-align: middle;\n",
       "    }\n",
       "\n",
       "    .dataframe tbody tr th {\n",
       "        vertical-align: top;\n",
       "    }\n",
       "\n",
       "    .dataframe thead th {\n",
       "        text-align: right;\n",
       "    }\n",
       "</style>\n",
       "<table border=\"1\" class=\"dataframe\">\n",
       "  <thead>\n",
       "    <tr style=\"text-align: right;\">\n",
       "      <th></th>\n",
       "      <th>Hotel Name</th>\n",
       "      <th>Lat</th>\n",
       "      <th>Lng</th>\n",
       "      <th>City</th>\n",
       "      <th>Country</th>\n",
       "      <th>PlaceID</th>\n",
       "    </tr>\n",
       "  </thead>\n",
       "  <tbody>\n",
       "    <tr>\n",
       "      <th>58</th>\n",
       "      <td>Tourist House - Sablino</td>\n",
       "      <td>59.6603</td>\n",
       "      <td>30.7785</td>\n",
       "      <td>NaN</td>\n",
       "      <td>NaN</td>\n",
       "      <td>ChIJiWVb2YaOvUYR7NUQLV2IGo0</td>\n",
       "    </tr>\n",
       "    <tr>\n",
       "      <th>72</th>\n",
       "      <td>Samuels Hotel</td>\n",
       "      <td>43.7521</td>\n",
       "      <td>-81.6978</td>\n",
       "      <td>NaN</td>\n",
       "      <td>NaN</td>\n",
       "      <td>ChIJiUZATCnDKIgRAuh2Np_JVPA</td>\n",
       "    </tr>\n",
       "    <tr>\n",
       "      <th>73</th>\n",
       "      <td>別邸 海と森</td>\n",
       "      <td>35.7017</td>\n",
       "      <td>140.862</td>\n",
       "      <td>NaN</td>\n",
       "      <td>NaN</td>\n",
       "      <td>ChIJ70J9mNw8I2ARoqavi8STaL0</td>\n",
       "    </tr>\n",
       "    <tr>\n",
       "      <th>79</th>\n",
       "      <td>福島いこいの村なみえ</td>\n",
       "      <td>37.48</td>\n",
       "      <td>140.998</td>\n",
       "      <td>NaN</td>\n",
       "      <td>NaN</td>\n",
       "      <td>ChIJNbgPJe7pIGARQEiULUXT684</td>\n",
       "    </tr>\n",
       "    <tr>\n",
       "      <th>133</th>\n",
       "      <td>Hampton by Hilton</td>\n",
       "      <td>39.7174</td>\n",
       "      <td>116.05</td>\n",
       "      <td>NaN</td>\n",
       "      <td>NaN</td>\n",
       "      <td>ChIJxX_CqY898DURnuUgIcSzg9o</td>\n",
       "    </tr>\n",
       "    <tr>\n",
       "      <th>151</th>\n",
       "      <td>Pemberton Valley Lodge</td>\n",
       "      <td>50.3149</td>\n",
       "      <td>-122.793</td>\n",
       "      <td>NaN</td>\n",
       "      <td>NaN</td>\n",
       "      <td>ChIJuWXzEa81h1QRO4fngt3IH8E</td>\n",
       "    </tr>\n",
       "    <tr>\n",
       "      <th>156</th>\n",
       "      <td>Hotel Stadtkrug</td>\n",
       "      <td>53.4265</td>\n",
       "      <td>11.8478</td>\n",
       "      <td>NaN</td>\n",
       "      <td>NaN</td>\n",
       "      <td>ChIJC1o6lrScrkcRzbhJBOsl0JE</td>\n",
       "    </tr>\n",
       "    <tr>\n",
       "      <th>193</th>\n",
       "      <td>Le Belvédère</td>\n",
       "      <td>46.3467</td>\n",
       "      <td>6.96368</td>\n",
       "      <td>NaN</td>\n",
       "      <td>NaN</td>\n",
       "      <td>ChIJV6tolHSXjkcRc9SaYevCXKs</td>\n",
       "    </tr>\n",
       "    <tr>\n",
       "      <th>249</th>\n",
       "      <td>Chenango Valley State Park</td>\n",
       "      <td>42.2139</td>\n",
       "      <td>-75.8354</td>\n",
       "      <td>NaN</td>\n",
       "      <td>NaN</td>\n",
       "      <td>ChIJE7Jkddn72okRQOFuS1iYpdQ</td>\n",
       "    </tr>\n",
       "    <tr>\n",
       "      <th>293</th>\n",
       "      <td>Gasthof Hotel Sonne Silandro</td>\n",
       "      <td>46.6312</td>\n",
       "      <td>10.7587</td>\n",
       "      <td>NaN</td>\n",
       "      <td>NaN</td>\n",
       "      <td>ChIJq0tcBFbngkcRgekMMlTxiP4</td>\n",
       "    </tr>\n",
       "    <tr>\n",
       "      <th>371</th>\n",
       "      <td>Shelburne Motel</td>\n",
       "      <td>44.091</td>\n",
       "      <td>-80.1426</td>\n",
       "      <td>NaN</td>\n",
       "      <td>NaN</td>\n",
       "      <td>ChIJ2wUGCKpXKogRX1BLK2MFW1s</td>\n",
       "    </tr>\n",
       "    <tr>\n",
       "      <th>398</th>\n",
       "      <td>Lancaster Inn</td>\n",
       "      <td>48.6459</td>\n",
       "      <td>-53.1033</td>\n",
       "      <td>NaN</td>\n",
       "      <td>NaN</td>\n",
       "      <td>ChIJXcIl_--rdUsRm_UR8gwneD8</td>\n",
       "    </tr>\n",
       "    <tr>\n",
       "      <th>434</th>\n",
       "      <td>Maison Tardif Enr. - Auberge à Macamic, QC</td>\n",
       "      <td>48.7572</td>\n",
       "      <td>-78.9993</td>\n",
       "      <td>NaN</td>\n",
       "      <td>NaN</td>\n",
       "      <td>ChIJserOaIBzIU0R734vTQt8p8w</td>\n",
       "    </tr>\n",
       "    <tr>\n",
       "      <th>457</th>\n",
       "      <td>Jingting Mountain Resort</td>\n",
       "      <td>30.962</td>\n",
       "      <td>118.712</td>\n",
       "      <td>NaN</td>\n",
       "      <td>NaN</td>\n",
       "      <td>ChIJvSAePFOoSjQRcj5xK0aQPZA</td>\n",
       "    </tr>\n",
       "    <tr>\n",
       "      <th>485</th>\n",
       "      <td>Гостинично-развлекательный комплекс KRONUS</td>\n",
       "      <td>55.0808</td>\n",
       "      <td>21.8879</td>\n",
       "      <td>NaN</td>\n",
       "      <td>NaN</td>\n",
       "      <td>ChIJ03a1yDdy5EYRN1DeaBGmxBY</td>\n",
       "    </tr>\n",
       "    <tr>\n",
       "      <th>507</th>\n",
       "      <td>Domaine des Trois Îles</td>\n",
       "      <td>48.643</td>\n",
       "      <td>-72.3977</td>\n",
       "      <td>NaN</td>\n",
       "      <td>NaN</td>\n",
       "      <td>ChIJO7QJCDUHwkwRf2lx3i5xSZc</td>\n",
       "    </tr>\n",
       "  </tbody>\n",
       "</table>\n",
       "</div>"
      ],
      "text/plain": [
       "                                     Hotel Name      Lat      Lng City  \\\n",
       "58                      Tourist House - Sablino  59.6603  30.7785  NaN   \n",
       "72                                Samuels Hotel  43.7521 -81.6978  NaN   \n",
       "73                                       別邸 海と森  35.7017  140.862  NaN   \n",
       "79                                   福島いこいの村なみえ    37.48  140.998  NaN   \n",
       "133                           Hampton by Hilton  39.7174   116.05  NaN   \n",
       "151                      Pemberton Valley Lodge  50.3149 -122.793  NaN   \n",
       "156                             Hotel Stadtkrug  53.4265  11.8478  NaN   \n",
       "193                                Le Belvédère  46.3467  6.96368  NaN   \n",
       "249                  Chenango Valley State Park  42.2139 -75.8354  NaN   \n",
       "293                Gasthof Hotel Sonne Silandro  46.6312  10.7587  NaN   \n",
       "371                             Shelburne Motel   44.091 -80.1426  NaN   \n",
       "398                               Lancaster Inn  48.6459 -53.1033  NaN   \n",
       "434  Maison Tardif Enr. - Auberge à Macamic, QC  48.7572 -78.9993  NaN   \n",
       "457                    Jingting Mountain Resort   30.962  118.712  NaN   \n",
       "485  Гостинично-развлекательный комплекс KRONUS  55.0808  21.8879  NaN   \n",
       "507                      Domaine des Trois Îles   48.643 -72.3977  NaN   \n",
       "\n",
       "    Country                      PlaceID  \n",
       "58      NaN  ChIJiWVb2YaOvUYR7NUQLV2IGo0  \n",
       "72      NaN  ChIJiUZATCnDKIgRAuh2Np_JVPA  \n",
       "73      NaN  ChIJ70J9mNw8I2ARoqavi8STaL0  \n",
       "79      NaN  ChIJNbgPJe7pIGARQEiULUXT684  \n",
       "133     NaN  ChIJxX_CqY898DURnuUgIcSzg9o  \n",
       "151     NaN  ChIJuWXzEa81h1QRO4fngt3IH8E  \n",
       "156     NaN  ChIJC1o6lrScrkcRzbhJBOsl0JE  \n",
       "193     NaN  ChIJV6tolHSXjkcRc9SaYevCXKs  \n",
       "249     NaN  ChIJE7Jkddn72okRQOFuS1iYpdQ  \n",
       "293     NaN  ChIJq0tcBFbngkcRgekMMlTxiP4  \n",
       "371     NaN  ChIJ2wUGCKpXKogRX1BLK2MFW1s  \n",
       "398     NaN  ChIJXcIl_--rdUsRm_UR8gwneD8  \n",
       "434     NaN  ChIJserOaIBzIU0R734vTQt8p8w  \n",
       "457     NaN  ChIJvSAePFOoSjQRcj5xK0aQPZA  \n",
       "485     NaN  ChIJ03a1yDdy5EYRN1DeaBGmxBY  \n",
       "507     NaN  ChIJO7QJCDUHwkwRf2lx3i5xSZc  "
      ]
     },
     "execution_count": 10,
     "metadata": {},
     "output_type": "execute_result"
    }
   ],
   "source": [
    "hotel_df"
   ]
  },
  {
   "cell_type": "code",
   "execution_count": 11,
   "metadata": {},
   "outputs": [
    {
     "name": "stdout",
     "output_type": "stream",
     "text": [
      "Roh-Roh, no data. Skipping...\n",
      "Roh-Roh, no data. Skipping...\n",
      "Roh-Roh, no data. Skipping...\n"
     ]
    }
   ],
   "source": [
    "# #finding city name and country\n",
    "for index, row in hotel_df.iterrows():\n",
    "    placeid = row[\"PlaceID\"]\n",
    "    \n",
    "    params = {\n",
    "        \"place_id\":placeid,\n",
    "        \"key\": g_key\n",
    "    }\n",
    "    \n",
    "    base = \"https://maps.googleapis.com/maps/api/place/details/json\"\n",
    "    \n",
    "    responseCity = requests.get(base, params=params)\n",
    "    \n",
    "    places = responseCity.json()\n",
    "    \n",
    "    try:\n",
    "        hotel_df.loc[index, \"City\"] = places[\"result\"][\"address_components\"][2][\"long_name\"]\n",
    "        hotel_df.loc[index, \"Country\"] = places[\"result\"][\"address_components\"][5][\"long_name\"]\n",
    "        #print(json.dumps(places, indent=4, sort_keys=True))\n",
    "    except:\n",
    "        print(\"Roh-Roh, no data. Skipping...\")\n",
    "        "
   ]
  },
  {
   "cell_type": "code",
   "execution_count": null,
   "metadata": {},
   "outputs": [],
   "source": [
    "# I realize that the above code doesn't quite get the city and country right as it varies in it's index for the city\n",
    "# and country data. Below is what I attemped to do to make it work. I tried to loop through the indexes to find were\n",
    "# places[\"result\"][\"address_component\"][\"type\"==\"country\"] and then call that to get the country name, and then tried \n",
    "# numerous other things and I just couldn't wrap my head around how to make it work. I even tried playing around with \n",
    "# the autocomplete API to see if I could get better results from that, and I couldn't make it work.\n",
    "\n",
    "#testing with loop\n",
    "\n",
    "# placeid = \"ChIJhRkd8Nw8I2ARdmilK03XEBI\"\n",
    "\n",
    "# params = {\n",
    "#     \"place_id\":placeid,\n",
    "#     \"key\": g_key\n",
    "# }\n",
    "\n",
    "# base = \"https://maps.googleapis.com/maps/api/place/details/json\"\n",
    "\n",
    "# responseCity = requests.get(base, params=params)\n",
    "\n",
    "# places = responseCity.json()\n",
    "\n",
    "# i=0\n",
    "\n",
    "# #try:\n",
    "# while i <=5:\n",
    "#     print(places[\"result\"][\"address_components\"][\"country\"][\"long_name\"])\n",
    "# #         print(places[\"result\"][\"address_components\"][\"types\"][\"long_name\"])\n",
    "# #         print(\"yay\")\n",
    "#     #print(places[\"result\"][\"address_components\"][i][\"types\"])\n",
    "\n",
    "#     #testdf.loc[index, \"City\"] = places[\"result\"][\"address_components\"][i][\"long_name\"]\n",
    "#     i+=1\n",
    "\n",
    "#     #print(json.dumps(places, indent=4, sort_keys=True))\n",
    "\n",
    "# # except:\n",
    "# #     print(\"Roh-Roh, no data. Skipping...\")"
   ]
  },
  {
   "cell_type": "code",
   "execution_count": 12,
   "metadata": {},
   "outputs": [],
   "source": [
    "# NOTE: Do not change any of the code in this cell\n",
    "\n",
    "# Using the template add the hotel marks to the heatmap\n",
    "info_box_template = \"\"\"\n",
    "<dl>\n",
    "<dt>Name</dt><dd>{Hotel Name}</dd>\n",
    "<dt>City</dt><dd>{City}</dd>\n",
    "<dt>Country</dt><dd>{Country}</dd>\n",
    "</dl>\n",
    "\"\"\"\n",
    "# Store the DataFrame Row\n",
    "# NOTE: be sure to update with your DataFrame name\n",
    "hotel_info = [info_box_template.format(**row) for index, row in hotel_df.iterrows()]\n",
    "locations = hotel_df[[\"Lat\", \"Lng\"]]"
   ]
  },
  {
   "cell_type": "code",
   "execution_count": 14,
   "metadata": {},
   "outputs": [
    {
     "data": {
      "application/vnd.jupyter.widget-view+json": {
       "model_id": "0efb5832791047fdaba2cb0e8a00c2d9",
       "version_major": 2,
       "version_minor": 0
      },
      "text/plain": [
       "Figure(layout=FigureLayout(height='420px'))"
      ]
     },
     "metadata": {},
     "output_type": "display_data"
    }
   ],
   "source": [
    "# Add marker layer ontop of heat map\n",
    "marker_layer = gmaps.marker_layer(locations, info_box_content=hotel_info)\n",
    "\n",
    "\n",
    "# Display Map\n",
    "\n",
    "fig = gmaps.figure(center=(15,20), zoom_level=1.75)\n",
    "fig.add_layer(marker_layer)\n",
    "fig.add_layer(heat_layer)\n",
    "\n",
    "fig"
   ]
  },
  {
   "cell_type": "code",
   "execution_count": null,
   "metadata": {},
   "outputs": [],
   "source": []
  }
 ],
 "metadata": {
  "kernelspec": {
   "display_name": "Python 3",
   "language": "python",
   "name": "python3"
  },
  "language_info": {
   "codemirror_mode": {
    "name": "ipython",
    "version": 3
   },
   "file_extension": ".py",
   "mimetype": "text/x-python",
   "name": "python",
   "nbconvert_exporter": "python",
   "pygments_lexer": "ipython3",
   "version": "3.6.9"
  },
  "latex_envs": {
   "LaTeX_envs_menu_present": true,
   "autoclose": false,
   "autocomplete": true,
   "bibliofile": "biblio.bib",
   "cite_by": "apalike",
   "current_citInitial": 1,
   "eqLabelWithNumbers": true,
   "eqNumInitial": 1,
   "hotkeys": {
    "equation": "Ctrl-E",
    "itemize": "Ctrl-I"
   },
   "labels_anchors": false,
   "latex_user_defs": false,
   "report_style_numbering": false,
   "user_envs_cfg": false
  }
 },
 "nbformat": 4,
 "nbformat_minor": 2
}
